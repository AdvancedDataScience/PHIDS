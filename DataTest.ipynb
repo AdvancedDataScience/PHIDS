{
 "cells": [
  {
   "cell_type": "code",
   "execution_count": 39,
   "metadata": {},
   "outputs": [
    {
     "name": "stdout",
     "output_type": "stream",
     "text": [
      "(1467, 7)\n"
     ]
    }
   ],
   "source": [
    "ds_all=pd.read_pickle(DataDirectory +'ds/ds.pkl.zip', compression='zip')\n",
    "print(ds_all.shape)\n",
    "hosp_codes_full=pd.read_excel(\"assets/health_office_excel.xlsx\")\n",
    "hosp_codes=hosp_codes_full[['รหัส 5 หลัก','รหัสจังหวัด', 'จังหวัด', 'รหัสอำเภอ', 'อำเภอ/เขต', 'รหัสตำบล','ตำบล/แขวง']].rename(columns={'รหัส 5 หลัก':'CODE5','รหัสจังหวัด':'ADM1_PCODE','จังหวัด':'ADM1_TH','รหัสอำเภอ':'ADM2_PCODE','อำเภอ/เขต':'ADM2_TH','รหัสตำบล':'ADM3_PCODE','ตำบล/แขวง':'ADM3_TH'})\n",
    "\n",
    "\n",
    "#DS_InitialDistrict=DS_df[['ADM2_TH','ADM2_PCODE']].sort_values('ADM2_PCODE')['ADM2_TH'].iloc[0]\n",
    "#DS_InitialSubdistrict=DS_df[['ADM3_TH','ADM3_PCODE']].sort_values('ADM3_PCODE')['ADM3_TH'].iloc[0]"
   ]
  },
  {
   "cell_type": "code",
   "execution_count": 41,
   "metadata": {},
   "outputs": [
    {
     "data": {
      "text/html": [
       "<div>\n",
       "<style scoped>\n",
       "    .dataframe tbody tr th:only-of-type {\n",
       "        vertical-align: middle;\n",
       "    }\n",
       "\n",
       "    .dataframe tbody tr th {\n",
       "        vertical-align: top;\n",
       "    }\n",
       "\n",
       "    .dataframe thead th {\n",
       "        text-align: right;\n",
       "    }\n",
       "</style>\n",
       "<table border=\"1\" class=\"dataframe\">\n",
       "  <thead>\n",
       "    <tr style=\"text-align: right;\">\n",
       "      <th></th>\n",
       "      <th>YEAR</th>\n",
       "      <th>รหัสอำเภอ</th>\n",
       "      <th>pdx</th>\n",
       "      <th>diseasethai</th>\n",
       "      <th>N</th>\n",
       "      <th>hcode</th>\n",
       "      <th>serv_year</th>\n",
       "      <th>CODE5</th>\n",
       "      <th>ADM1_PCODE</th>\n",
       "      <th>ADM1_TH</th>\n",
       "      <th>ADM2_PCODE</th>\n",
       "      <th>ADM2_TH</th>\n",
       "      <th>ADM3_PCODE</th>\n",
       "      <th>ADM3_TH</th>\n",
       "    </tr>\n",
       "  </thead>\n",
       "  <tbody>\n",
       "    <tr>\n",
       "      <th>0</th>\n",
       "      <td>2564</td>\n",
       "      <td>2301</td>\n",
       "      <td>R99</td>\n",
       "      <td>สาเหตุการตายอื่นที่ไม่ชัดเจนและไม่ระบุรายละเอียด</td>\n",
       "      <td>316</td>\n",
       "      <td>10696</td>\n",
       "      <td>2021</td>\n",
       "      <td>10696</td>\n",
       "      <td>23.0</td>\n",
       "      <td>ตราด</td>\n",
       "      <td>2301.0</td>\n",
       "      <td>เมืองตราด</td>\n",
       "      <td>230107.0</td>\n",
       "      <td>วังกระแจะ</td>\n",
       "    </tr>\n",
       "    <tr>\n",
       "      <th>1</th>\n",
       "      <td>2564</td>\n",
       "      <td>2301</td>\n",
       "      <td>A419</td>\n",
       "      <td>การติดเชื้อในกระแสเลือด ไม่ระบุชนิด</td>\n",
       "      <td>120</td>\n",
       "      <td>10696</td>\n",
       "      <td>2021</td>\n",
       "      <td>10696</td>\n",
       "      <td>23.0</td>\n",
       "      <td>ตราด</td>\n",
       "      <td>2301.0</td>\n",
       "      <td>เมืองตราด</td>\n",
       "      <td>230107.0</td>\n",
       "      <td>วังกระแจะ</td>\n",
       "    </tr>\n",
       "    <tr>\n",
       "      <th>2</th>\n",
       "      <td>2564</td>\n",
       "      <td>2301</td>\n",
       "      <td>J189</td>\n",
       "      <td>ปอดบวม ไม่ระบุรายละเอียด</td>\n",
       "      <td>116</td>\n",
       "      <td>10696</td>\n",
       "      <td>2021</td>\n",
       "      <td>10696</td>\n",
       "      <td>23.0</td>\n",
       "      <td>ตราด</td>\n",
       "      <td>2301.0</td>\n",
       "      <td>เมืองตราด</td>\n",
       "      <td>230107.0</td>\n",
       "      <td>วังกระแจะ</td>\n",
       "    </tr>\n",
       "    <tr>\n",
       "      <th>3</th>\n",
       "      <td>2564</td>\n",
       "      <td>2301</td>\n",
       "      <td>U071</td>\n",
       "      <td>โรคโควิด 19 ตรวจพบไวรัส</td>\n",
       "      <td>64</td>\n",
       "      <td>10696</td>\n",
       "      <td>2021</td>\n",
       "      <td>10696</td>\n",
       "      <td>23.0</td>\n",
       "      <td>ตราด</td>\n",
       "      <td>2301.0</td>\n",
       "      <td>เมืองตราด</td>\n",
       "      <td>230107.0</td>\n",
       "      <td>วังกระแจะ</td>\n",
       "    </tr>\n",
       "    <tr>\n",
       "      <th>4</th>\n",
       "      <td>2564</td>\n",
       "      <td>2301</td>\n",
       "      <td>C349</td>\n",
       "      <td>เนื้องอกร้ายของหลอดลมหรือปอด ไม่ระบุตำแหน่ง</td>\n",
       "      <td>50</td>\n",
       "      <td>10696</td>\n",
       "      <td>2021</td>\n",
       "      <td>10696</td>\n",
       "      <td>23.0</td>\n",
       "      <td>ตราด</td>\n",
       "      <td>2301.0</td>\n",
       "      <td>เมืองตราด</td>\n",
       "      <td>230107.0</td>\n",
       "      <td>วังกระแจะ</td>\n",
       "    </tr>\n",
       "    <tr>\n",
       "      <th>...</th>\n",
       "      <td>...</td>\n",
       "      <td>...</td>\n",
       "      <td>...</td>\n",
       "      <td>...</td>\n",
       "      <td>...</td>\n",
       "      <td>...</td>\n",
       "      <td>...</td>\n",
       "      <td>...</td>\n",
       "      <td>...</td>\n",
       "      <td>...</td>\n",
       "      <td>...</td>\n",
       "      <td>...</td>\n",
       "      <td>...</td>\n",
       "      <td>...</td>\n",
       "    </tr>\n",
       "    <tr>\n",
       "      <th>1462</th>\n",
       "      <td>2566</td>\n",
       "      <td>2307</td>\n",
       "      <td>E872</td>\n",
       "      <td>ภาวะเลือดเป็นกรด</td>\n",
       "      <td>1</td>\n",
       "      <td>13816</td>\n",
       "      <td>2023</td>\n",
       "      <td>13816</td>\n",
       "      <td>23.0</td>\n",
       "      <td>ตราด</td>\n",
       "      <td>2307.0</td>\n",
       "      <td>เกาะช้าง</td>\n",
       "      <td>230701.0</td>\n",
       "      <td>เกาะช้าง</td>\n",
       "    </tr>\n",
       "    <tr>\n",
       "      <th>1463</th>\n",
       "      <td>2566</td>\n",
       "      <td>2307</td>\n",
       "      <td>R090</td>\n",
       "      <td>ขาดอากาศหายใจ</td>\n",
       "      <td>1</td>\n",
       "      <td>13816</td>\n",
       "      <td>2023</td>\n",
       "      <td>13816</td>\n",
       "      <td>23.0</td>\n",
       "      <td>ตราด</td>\n",
       "      <td>2307.0</td>\n",
       "      <td>เกาะช้าง</td>\n",
       "      <td>230701.0</td>\n",
       "      <td>เกาะช้าง</td>\n",
       "    </tr>\n",
       "    <tr>\n",
       "      <th>1464</th>\n",
       "      <td>2566</td>\n",
       "      <td>2307</td>\n",
       "      <td>C259</td>\n",
       "      <td>เนื้องอกร้ายของตับอ่อน ไม่ระบุตำแหน่ง</td>\n",
       "      <td>1</td>\n",
       "      <td>13816</td>\n",
       "      <td>2023</td>\n",
       "      <td>13816</td>\n",
       "      <td>23.0</td>\n",
       "      <td>ตราด</td>\n",
       "      <td>2307.0</td>\n",
       "      <td>เกาะช้าง</td>\n",
       "      <td>230701.0</td>\n",
       "      <td>เกาะช้าง</td>\n",
       "    </tr>\n",
       "    <tr>\n",
       "      <th>1465</th>\n",
       "      <td>2566</td>\n",
       "      <td>2307</td>\n",
       "      <td>C229</td>\n",
       "      <td>เนื้องอกร้ายของตับ ไม่ระบุรายละเอียด</td>\n",
       "      <td>1</td>\n",
       "      <td>13816</td>\n",
       "      <td>2023</td>\n",
       "      <td>13816</td>\n",
       "      <td>23.0</td>\n",
       "      <td>ตราด</td>\n",
       "      <td>2307.0</td>\n",
       "      <td>เกาะช้าง</td>\n",
       "      <td>230701.0</td>\n",
       "      <td>เกาะช้าง</td>\n",
       "    </tr>\n",
       "    <tr>\n",
       "      <th>1466</th>\n",
       "      <td>2566</td>\n",
       "      <td>2307</td>\n",
       "      <td>C300</td>\n",
       "      <td>เนื้องอกร้ายของช่องจมูก</td>\n",
       "      <td>1</td>\n",
       "      <td>13816</td>\n",
       "      <td>2023</td>\n",
       "      <td>13816</td>\n",
       "      <td>23.0</td>\n",
       "      <td>ตราด</td>\n",
       "      <td>2307.0</td>\n",
       "      <td>เกาะช้าง</td>\n",
       "      <td>230701.0</td>\n",
       "      <td>เกาะช้าง</td>\n",
       "    </tr>\n",
       "  </tbody>\n",
       "</table>\n",
       "<p>1467 rows × 14 columns</p>\n",
       "</div>"
      ],
      "text/plain": [
       "      YEAR  รหัสอำเภอ   pdx                                       diseasethai  \\\n",
       "0     2564       2301   R99  สาเหตุการตายอื่นที่ไม่ชัดเจนและไม่ระบุรายละเอียด   \n",
       "1     2564       2301  A419               การติดเชื้อในกระแสเลือด ไม่ระบุชนิด   \n",
       "2     2564       2301  J189                          ปอดบวม ไม่ระบุรายละเอียด   \n",
       "3     2564       2301  U071                           โรคโควิด 19 ตรวจพบไวรัส   \n",
       "4     2564       2301  C349       เนื้องอกร้ายของหลอดลมหรือปอด ไม่ระบุตำแหน่ง   \n",
       "...    ...        ...   ...                                               ...   \n",
       "1462  2566       2307  E872                                  ภาวะเลือดเป็นกรด   \n",
       "1463  2566       2307  R090                                     ขาดอากาศหายใจ   \n",
       "1464  2566       2307  C259             เนื้องอกร้ายของตับอ่อน ไม่ระบุตำแหน่ง   \n",
       "1465  2566       2307  C229              เนื้องอกร้ายของตับ ไม่ระบุรายละเอียด   \n",
       "1466  2566       2307  C300                           เนื้องอกร้ายของช่องจมูก   \n",
       "\n",
       "        N  hcode  serv_year  CODE5  ADM1_PCODE ADM1_TH  ADM2_PCODE    ADM2_TH  \\\n",
       "0     316  10696       2021  10696        23.0    ตราด      2301.0  เมืองตราด   \n",
       "1     120  10696       2021  10696        23.0    ตราด      2301.0  เมืองตราด   \n",
       "2     116  10696       2021  10696        23.0    ตราด      2301.0  เมืองตราด   \n",
       "3      64  10696       2021  10696        23.0    ตราด      2301.0  เมืองตราด   \n",
       "4      50  10696       2021  10696        23.0    ตราด      2301.0  เมืองตราด   \n",
       "...   ...    ...        ...    ...         ...     ...         ...        ...   \n",
       "1462    1  13816       2023  13816        23.0    ตราด      2307.0   เกาะช้าง   \n",
       "1463    1  13816       2023  13816        23.0    ตราด      2307.0   เกาะช้าง   \n",
       "1464    1  13816       2023  13816        23.0    ตราด      2307.0   เกาะช้าง   \n",
       "1465    1  13816       2023  13816        23.0    ตราด      2307.0   เกาะช้าง   \n",
       "1466    1  13816       2023  13816        23.0    ตราด      2307.0   เกาะช้าง   \n",
       "\n",
       "      ADM3_PCODE    ADM3_TH  \n",
       "0       230107.0  วังกระแจะ  \n",
       "1       230107.0  วังกระแจะ  \n",
       "2       230107.0  วังกระแจะ  \n",
       "3       230107.0  วังกระแจะ  \n",
       "4       230107.0  วังกระแจะ  \n",
       "...          ...        ...  \n",
       "1462    230701.0   เกาะช้าง  \n",
       "1463    230701.0   เกาะช้าง  \n",
       "1464    230701.0   เกาะช้าง  \n",
       "1465    230701.0   เกาะช้าง  \n",
       "1466    230701.0   เกาะช้าง  \n",
       "\n",
       "[1467 rows x 14 columns]"
      ]
     },
     "execution_count": 41,
     "metadata": {},
     "output_type": "execute_result"
    }
   ],
   "source": [
    "DS_df=ds_all.merge(hosp_codes,left_on='hcode',right_on='CODE5')\n",
    "DS_df.rename({'pdx':'CODE','diseasethai':'Disease'})\n"
   ]
  },
  {
   "cell_type": "code",
   "execution_count": null,
   "metadata": {},
   "outputs": [],
   "source": [
    "Folder = 'ip'\n",
    "iFile='uc_ip_1.csv'\n",
    "DataDirectory=\"assets/all_schemes/trat/\"\n",
    "FileLocation=DataDirectory+Folder+\"/\"+iFile\n",
    "print(FileLocation)\n",
    "ip_uc= pd.read_csv(FileLocation,low_memory=False)\n",
    "ip_uc['scheme']='uc'\n",
    "print(ip_uc.columns)\n",
    "\n",
    "iFile='sss_ip_1.csv'\n",
    "FileLocation=DataDirectory+Folder+\"/\"+iFile\n",
    "print(FileLocation)\n",
    "ip_sss= pd.read_csv(FileLocation,sep=\"\\t\",low_memory=False).rename(str.lower, axis='columns').rename(columns={'tsid':'tran_id','cpid':'pid','dateadm':'date_serv'})\n",
    "ip_sss[[\"age_year\", \"age_month\",'age_day']] = ip_sss.apply(AgeAtVisitDF, axis=1, result_type=\"expand\")\n",
    "ip_sss['scheme']='sss'\n",
    "print(ip_sss.columns)\n",
    "\n",
    "iFile='csmbs_ip_1.csv'\n",
    "FileLocation=DataDirectory+Folder+\"/\"+iFile\n",
    "print(FileLocation)\n",
    "ip_csmbs= pd.read_csv(FileLocation,sep=\"\\t\",low_memory=False).rename(str.lower, axis='columns').rename(columns={'tsid':'tran_id','cpid':'pid'})\n",
    "ip_csmbs['dateadm_d']=ip_csmbs['dateadm_d'].apply(str);ip_csmbs['dateadm_m']=ip_csmbs['dateadm_m'].apply(str);ip_csmbs['dateadm_y']=ip_csmbs['dateadm_y'].apply(str)\n",
    "ip_csmbs['date_serv'] = ip_csmbs['dateadm_d']+\"/\" + ip_csmbs['dateadm_m']+\"/\" + ip_csmbs['dateadm_y']\n",
    "ip_csmbs['dob_d']=ip_csmbs['dob_d'].apply(str);ip_csmbs['dob_m']=ip_csmbs['dob_m'].apply(str);ip_csmbs['dob_y']=ip_csmbs['dob_y'].apply(str)\n",
    "ip_csmbs['dob'] = ip_csmbs['dob_d']+\"/\" + ip_csmbs['dob_m']+\"/\" + ip_csmbs['dob_y']\n",
    "ip_csmbs[[\"age_year\", \"age_month\",'age_day']] = ip_csmbs.apply(AgeAtVisitDF, axis=1, result_type=\"expand\")\n",
    "ip_csmbs['scheme']='csmbs'\n",
    "print(ip_csmbs.columns)"
   ]
  },
  {
   "cell_type": "code",
   "execution_count": 127,
   "metadata": {},
   "outputs": [
    {
     "data": {
      "text/plain": [
       "0          Z480\n",
       "1          Z002\n",
       "2           I10\n",
       "3          R509\n",
       "4         M6266\n",
       "          ...  \n",
       "168519         \n",
       "168520         \n",
       "168521         \n",
       "168522         \n",
       "168523         \n",
       "Name: pdx, Length: 2776028, dtype: object"
      ]
     },
     "execution_count": 127,
     "metadata": {},
     "output_type": "execute_result"
    }
   ],
   "source": [
    "#CDC\n",
    "op_all=pd.read_pickle(DataDirectory +'op/op.pkl.zip', compression='zip')\n",
    "op_all['pdx']\n"
   ]
  },
  {
   "cell_type": "code",
   "execution_count": 164,
   "metadata": {},
   "outputs": [
    {
     "data": {
      "text/html": [
       "<div>\n",
       "<style scoped>\n",
       "    .dataframe tbody tr th:only-of-type {\n",
       "        vertical-align: middle;\n",
       "    }\n",
       "\n",
       "    .dataframe tbody tr th {\n",
       "        vertical-align: top;\n",
       "    }\n",
       "\n",
       "    .dataframe thead th {\n",
       "        text-align: right;\n",
       "    }\n",
       "</style>\n",
       "<table border=\"1\" class=\"dataframe\">\n",
       "  <thead>\n",
       "    <tr style=\"text-align: right;\">\n",
       "      <th></th>\n",
       "      <th>pdx</th>\n",
       "      <th>hcode</th>\n",
       "      <th>N</th>\n",
       "      <th>CODE</th>\n",
       "      <th>Disease</th>\n",
       "      <th>CODE5</th>\n",
       "      <th>ADM1_PCODE</th>\n",
       "      <th>ADM1_TH</th>\n",
       "      <th>ADM2_PCODE</th>\n",
       "      <th>ADM2_TH</th>\n",
       "      <th>ADM3_PCODE</th>\n",
       "      <th>ADM3_TH</th>\n",
       "    </tr>\n",
       "  </thead>\n",
       "  <tbody>\n",
       "    <tr>\n",
       "      <th>0</th>\n",
       "      <td>A000</td>\n",
       "      <td>10696</td>\n",
       "      <td>1</td>\n",
       "      <td>A000</td>\n",
       "      <td>Cholera due to Vibrio cholerae 01, biovar chol...</td>\n",
       "      <td>10696</td>\n",
       "      <td>23.0</td>\n",
       "      <td>ตราด</td>\n",
       "      <td>2301.0</td>\n",
       "      <td>เมืองตราด</td>\n",
       "      <td>230107.0</td>\n",
       "      <td>วังกระแจะ</td>\n",
       "    </tr>\n",
       "    <tr>\n",
       "      <th>1</th>\n",
       "      <td>A014</td>\n",
       "      <td>10696</td>\n",
       "      <td>1</td>\n",
       "      <td>A014</td>\n",
       "      <td>Paratyphoid fever, unspecified</td>\n",
       "      <td>10696</td>\n",
       "      <td>23.0</td>\n",
       "      <td>ตราด</td>\n",
       "      <td>2301.0</td>\n",
       "      <td>เมืองตราด</td>\n",
       "      <td>230107.0</td>\n",
       "      <td>วังกระแจะ</td>\n",
       "    </tr>\n",
       "    <tr>\n",
       "      <th>2</th>\n",
       "      <td>A020</td>\n",
       "      <td>10696</td>\n",
       "      <td>58</td>\n",
       "      <td>A020</td>\n",
       "      <td>Salmonella enteritis</td>\n",
       "      <td>10696</td>\n",
       "      <td>23.0</td>\n",
       "      <td>ตราด</td>\n",
       "      <td>2301.0</td>\n",
       "      <td>เมืองตราด</td>\n",
       "      <td>230107.0</td>\n",
       "      <td>วังกระแจะ</td>\n",
       "    </tr>\n",
       "    <tr>\n",
       "      <th>3</th>\n",
       "      <td>A030</td>\n",
       "      <td>10696</td>\n",
       "      <td>2</td>\n",
       "      <td>A030</td>\n",
       "      <td>Shigellosis due to Shigella dysenteriae</td>\n",
       "      <td>10696</td>\n",
       "      <td>23.0</td>\n",
       "      <td>ตราด</td>\n",
       "      <td>2301.0</td>\n",
       "      <td>เมืองตราด</td>\n",
       "      <td>230107.0</td>\n",
       "      <td>วังกระแจะ</td>\n",
       "    </tr>\n",
       "    <tr>\n",
       "      <th>4</th>\n",
       "      <td>A038</td>\n",
       "      <td>10696</td>\n",
       "      <td>1</td>\n",
       "      <td>A038</td>\n",
       "      <td>Other shigellosis</td>\n",
       "      <td>10696</td>\n",
       "      <td>23.0</td>\n",
       "      <td>ตราด</td>\n",
       "      <td>2301.0</td>\n",
       "      <td>เมืองตราด</td>\n",
       "      <td>230107.0</td>\n",
       "      <td>วังกระแจะ</td>\n",
       "    </tr>\n",
       "    <tr>\n",
       "      <th>...</th>\n",
       "      <td>...</td>\n",
       "      <td>...</td>\n",
       "      <td>...</td>\n",
       "      <td>...</td>\n",
       "      <td>...</td>\n",
       "      <td>...</td>\n",
       "      <td>...</td>\n",
       "      <td>...</td>\n",
       "      <td>...</td>\n",
       "      <td>...</td>\n",
       "      <td>...</td>\n",
       "      <td>...</td>\n",
       "    </tr>\n",
       "    <tr>\n",
       "      <th>383</th>\n",
       "      <td>B084</td>\n",
       "      <td>2163</td>\n",
       "      <td>10</td>\n",
       "      <td>B084</td>\n",
       "      <td>Enteroviral vesicular stomatitis with exanthem</td>\n",
       "      <td>2163</td>\n",
       "      <td>23.0</td>\n",
       "      <td>ตราด</td>\n",
       "      <td>2304.0</td>\n",
       "      <td>บ่อไร่</td>\n",
       "      <td>230403.0</td>\n",
       "      <td>ด่านชุมพล</td>\n",
       "    </tr>\n",
       "    <tr>\n",
       "      <th>384</th>\n",
       "      <td>J189</td>\n",
       "      <td>2163</td>\n",
       "      <td>2</td>\n",
       "      <td>J189</td>\n",
       "      <td>Pneumonia, unspecified organism</td>\n",
       "      <td>2163</td>\n",
       "      <td>23.0</td>\n",
       "      <td>ตราด</td>\n",
       "      <td>2304.0</td>\n",
       "      <td>บ่อไร่</td>\n",
       "      <td>230403.0</td>\n",
       "      <td>ด่านชุมพล</td>\n",
       "    </tr>\n",
       "    <tr>\n",
       "      <th>385</th>\n",
       "      <td>B084</td>\n",
       "      <td>2164</td>\n",
       "      <td>60</td>\n",
       "      <td>B084</td>\n",
       "      <td>Enteroviral vesicular stomatitis with exanthem</td>\n",
       "      <td>2164</td>\n",
       "      <td>23.0</td>\n",
       "      <td>ตราด</td>\n",
       "      <td>2304.0</td>\n",
       "      <td>บ่อไร่</td>\n",
       "      <td>230404.0</td>\n",
       "      <td>หนองบอน</td>\n",
       "    </tr>\n",
       "    <tr>\n",
       "      <th>386</th>\n",
       "      <td>B084</td>\n",
       "      <td>2169</td>\n",
       "      <td>2</td>\n",
       "      <td>B084</td>\n",
       "      <td>Enteroviral vesicular stomatitis with exanthem</td>\n",
       "      <td>2169</td>\n",
       "      <td>23.0</td>\n",
       "      <td>ตราด</td>\n",
       "      <td>2305.0</td>\n",
       "      <td>แหลมงอบ</td>\n",
       "      <td>230503.0</td>\n",
       "      <td>บางปิด</td>\n",
       "    </tr>\n",
       "    <tr>\n",
       "      <th>387</th>\n",
       "      <td>B085</td>\n",
       "      <td>2138</td>\n",
       "      <td>1</td>\n",
       "      <td>B085</td>\n",
       "      <td>Enteroviral vesicular pharyngitis</td>\n",
       "      <td>2138</td>\n",
       "      <td>23.0</td>\n",
       "      <td>ตราด</td>\n",
       "      <td>2302.0</td>\n",
       "      <td>คลองใหญ่</td>\n",
       "      <td>230203.0</td>\n",
       "      <td>หาดเล็ก</td>\n",
       "    </tr>\n",
       "  </tbody>\n",
       "</table>\n",
       "<p>388 rows × 12 columns</p>\n",
       "</div>"
      ],
      "text/plain": [
       "      pdx  hcode   N  CODE                                            Disease  \\\n",
       "0    A000  10696   1  A000  Cholera due to Vibrio cholerae 01, biovar chol...   \n",
       "1    A014  10696   1  A014                     Paratyphoid fever, unspecified   \n",
       "2    A020  10696  58  A020                               Salmonella enteritis   \n",
       "3    A030  10696   2  A030            Shigellosis due to Shigella dysenteriae   \n",
       "4    A038  10696   1  A038                                  Other shigellosis   \n",
       "..    ...    ...  ..   ...                                                ...   \n",
       "383  B084   2163  10  B084     Enteroviral vesicular stomatitis with exanthem   \n",
       "384  J189   2163   2  J189                    Pneumonia, unspecified organism   \n",
       "385  B084   2164  60  B084     Enteroviral vesicular stomatitis with exanthem   \n",
       "386  B084   2169   2  B084     Enteroviral vesicular stomatitis with exanthem   \n",
       "387  B085   2138   1  B085                  Enteroviral vesicular pharyngitis   \n",
       "\n",
       "     CODE5  ADM1_PCODE ADM1_TH  ADM2_PCODE    ADM2_TH  ADM3_PCODE    ADM3_TH  \n",
       "0    10696        23.0    ตราด      2301.0  เมืองตราด    230107.0  วังกระแจะ  \n",
       "1    10696        23.0    ตราด      2301.0  เมืองตราด    230107.0  วังกระแจะ  \n",
       "2    10696        23.0    ตราด      2301.0  เมืองตราด    230107.0  วังกระแจะ  \n",
       "3    10696        23.0    ตราด      2301.0  เมืองตราด    230107.0  วังกระแจะ  \n",
       "4    10696        23.0    ตราด      2301.0  เมืองตราด    230107.0  วังกระแจะ  \n",
       "..     ...         ...     ...         ...        ...         ...        ...  \n",
       "383   2163        23.0    ตราด      2304.0     บ่อไร่    230403.0  ด่านชุมพล  \n",
       "384   2163        23.0    ตราด      2304.0     บ่อไร่    230403.0  ด่านชุมพล  \n",
       "385   2164        23.0    ตราด      2304.0     บ่อไร่    230404.0    หนองบอน  \n",
       "386   2169        23.0    ตราด      2305.0    แหลมงอบ    230503.0     บางปิด  \n",
       "387   2138        23.0    ตราด      2302.0   คลองใหญ่    230203.0    หาดเล็ก  \n",
       "\n",
       "[388 rows x 12 columns]"
      ]
     },
     "execution_count": 164,
     "metadata": {},
     "output_type": "execute_result"
    }
   ],
   "source": [
    "CDC_ICD_RANGE=['A052', 'A053', 'A054', 'A030', 'A031', 'A032', 'A033', 'A060', 'A061', 'A062', 'A063', 'A064', 'A065', 'A066', 'A067', 'A068', 'A069', 'A011', 'A012', 'A013', 'A014', 'J100', 'J101', 'J102', 'J103', 'J104', 'J105', 'J106', 'J107', 'J108', 'J109', 'J110', 'J111', 'J112', 'J113', 'J114', 'J115', 'J116', 'J117', 'J118', 'J119', 'J120', 'J121', 'J122', 'J123', 'U071', 'U072', 'B010', 'B011', 'B012', 'A800', 'A801', 'A802', 'A803', 'A804', 'B050', 'B051', 'B052', 'B053', 'B054', 'A360', 'A361', 'A362', 'A363', 'B260', 'B261', 'B262', 'B263', 'A392', 'A393', 'A394', 'A395', 'A831', 'A832', 'A833', 'A834', 'A835', 'A878', 'A879', 'B508', 'B509', 'A750', 'A751', 'A752', 'A753', 'A500', 'A501', 'A502', 'A503', 'A504', 'A505', 'A506', 'A507', 'A540', 'A541', 'A542', 'A543', 'A544', 'A545', 'A546', 'A560', 'A561', 'A562', 'A563', 'A564', 'A600', 'A601', 'B160', 'B161', 'B162', 'A241', 'A242', 'A243', 'A244', 'A221', 'A222', 'A231', 'A232', 'A233', 'A058', 'A059', 'A038', 'A039', 'J128', 'J129', 'B018', 'B019', 'A368', 'A369', 'B268', 'B269', 'A398', 'A399', 'A838', 'A839', 'B518', 'B519', 'A510', 'A511', 'A512', 'A513', 'A514', 'A515', 'A548', 'A549', 'N341', 'N342', 'N343', 'A227', 'A228', 'A229', 'A238', 'A239', 'J170', 'J171', 'A840', 'A841', 'B528', 'B529', 'A520', 'A521', 'A522', 'A523', 'J180', 'J181', 'J182', 'A848', 'A849', 'A527', 'A528', 'A529', 'J188', 'J189', 'A850', 'A851', 'A852', 'G048', 'G049']\n",
    "CDC_ICD_SPOTS=['A000','A020','A010','B660','A051','T620','B150','B172','J13','U109','B06','A809','B059','B058','A370','A34','A830','A33','P350','A390','A858','G00','A970','A911','A910','A972','B500','A759','A90','A979','A920','A925','A509','A530','K671','A568','A57','A55','A609','A630','B169','B171','B170','B084','A850','B04','A820','A270','A220','B75','A408','A230','J09','A001','A021','B159','J14','B069','A379','A35','A86','G009','A971','B510','A519','A539','M730','A638','B085','A870','A821','A278','A009','A022','J15J160','B060','B004','G020','B520','O981','N743','B341','A829','A279','A028','J168','B068','G051','G030','B530','A029','J851','G038','B531','A050','A481','G039','B538','A329','B54']\n",
    "CDC_ICD_LIST=set(CDC_ICD_RANGE+CDC_ICD_SPOTS)\n",
    "op_cdc=op_all[op_all['pdx'].isin(CDC_ICD_LIST)]\n",
    "All_CDC_Count=op_cdc.groupby(['pdx','hcode']).agg({'pid': 'count'}).rename(columns={'pid':'N'}).reset_index()\n",
    "CDC_df=All_CDC_Count.merge(icd_codes,left_on='pdx',right_on='CODE').merge(hosp_codes,left_on='hcode',right_on='CODE5')\n",
    "CDC_InitialDistrict=CDC_df[['ADM2_TH','ADM2_PCODE']].sort_values('ADM2_PCODE')['ADM2_TH'].iloc[0]\n",
    "CDC_InitialSubdistrict=CDC_df[['ADM3_TH','ADM3_PCODE']].sort_values('ADM3_PCODE')['ADM3_TH'].iloc[0]\n",
    "CDC_df"
   ]
  },
  {
   "cell_type": "code",
   "execution_count": 172,
   "metadata": {},
   "outputs": [
    {
     "ename": "NameError",
     "evalue": "name 'pdx' is not defined",
     "output_type": "error",
     "traceback": [
      "\u001b[0;31m---------------------------------------------------------------------------\u001b[0m",
      "\u001b[0;31mNameError\u001b[0m                                 Traceback (most recent call last)",
      "Cell \u001b[0;32mIn[172], line 2\u001b[0m\n\u001b[1;32m      1\u001b[0m tmpCDC\u001b[38;5;241m=\u001b[39mCDC_df[\u001b[38;5;124m'\u001b[39m\u001b[38;5;124mpdx\u001b[39m\u001b[38;5;124m'\u001b[39m]\u001b[38;5;241m.\u001b[39mvalue_counts()\n\u001b[0;32m----> 2\u001b[0m tmpCDC\u001b[38;5;241m.\u001b[39msort_values(key\u001b[38;5;241m=\u001b[39mpdx)\n",
      "\u001b[0;31mNameError\u001b[0m: name 'pdx' is not defined"
     ]
    }
   ],
   "source": [
    "tmpCDC=CDC_df['pdx'].value_counts()\n",
    "tmpCDC.sort_values(key=pdx)"
   ]
  },
  {
   "cell_type": "code",
   "execution_count": 158,
   "metadata": {},
   "outputs": [
    {
     "name": "stdout",
     "output_type": "stream",
     "text": [
      "Start A05.2, Stop A05.4, Primer=A05,Start2,Stop5\n",
      "Start A03.0, Stop A03.3, Primer=A03,Start0,Stop4\n",
      "Start A06.0, Stop A06.9, Primer=A06,Start0,Stop10\n",
      "Start A01.1, Stop A01.4, Primer=A01,Start1,Stop5\n",
      "Start J10.0, Stop J10.9, Primer=J10,Start0,Stop10\n",
      "Start J11.0, Stop J11.9, Primer=J11,Start0,Stop10\n",
      "Start J12.0, Stop J12.3, Primer=J12,Start0,Stop4\n",
      "Start U07.1, Stop U07.2, Primer=U07,Start1,Stop3\n",
      "Start B01.0, Stop B01.2, Primer=B01,Start0,Stop3\n",
      "Start A80.0, Stop A80.4, Primer=A80,Start0,Stop5\n",
      "Start B05.0, Stop B05.4, Primer=B05,Start0,Stop5\n",
      "Start A36.0, Stop A36.3, Primer=A36,Start0,Stop4\n",
      "Start B26.0, Stop B26.3, Primer=B26,Start0,Stop4\n",
      "Start A39.2, Stop A39.5, Primer=A39,Start2,Stop6\n",
      "Start A83.1, Stop A83.5, Primer=A83,Start1,Stop6\n",
      "Start A87.8, Stop A87.9, Primer=A87,Start8,Stop10\n",
      "Start B50.8, Stop B50.9, Primer=B50,Start8,Stop10\n",
      "Start A75.0, Stop A75.3, Primer=A75,Start0,Stop4\n",
      "Start A50.0, Stop A50.7, Primer=A50,Start0,Stop8\n",
      "Start A54.0, Stop A54.6, Primer=A54,Start0,Stop7\n",
      "Start A56.0, Stop A56.4, Primer=A56,Start0,Stop5\n",
      "Start A60.0, Stop A60.1, Primer=A60,Start0,Stop2\n",
      "Start B16.0, Stop B16.2, Primer=B16,Start0,Stop3\n",
      "Start A24.1, Stop A24.4, Primer=A24,Start1,Stop5\n",
      "Start A22.1, Stop A22.2, Primer=A22,Start1,Stop3\n",
      "Start A23.1, Stop A23.3, Primer=A23,Start1,Stop4\n",
      "Start A05.8, Stop A05.9, Primer=A05,Start8,Stop10\n",
      "Start A03.8, Stop A03.9, Primer=A03,Start8,Stop10\n",
      "Start J12.8, Stop J12.9, Primer=J12,Start8,Stop10\n",
      "Start B01.8, Stop B01.9, Primer=B01,Start8,Stop10\n",
      "Start A36.8, Stop A36.9, Primer=A36,Start8,Stop10\n",
      "Start B26.8, Stop B26.9, Primer=B26,Start8,Stop10\n",
      "Start A39.8, Stop A39.9, Primer=A39,Start8,Stop10\n",
      "Start A83.8, Stop A83.9, Primer=A83,Start8,Stop10\n",
      "Start B51.8, Stop B51.9, Primer=B51,Start8,Stop10\n",
      "Start A51.0, Stop A51.5, Primer=A51,Start0,Stop6\n",
      "Start A54.8, Stop A54.9, Primer=A54,Start8,Stop10\n",
      "Start N34.1, Stop N34.3, Primer=N34,Start1,Stop4\n",
      "Start A22.7, Stop A22.9, Primer=A22,Start7,Stop10\n",
      "Start A23.8, Stop A23.9, Primer=A23,Start8,Stop10\n",
      "Start J17.0, Stop J17.1, Primer=J17,Start0,Stop2\n",
      "Start A84.0, Stop A84.1, Primer=A84,Start0,Stop2\n",
      "Start B52.8, Stop B52.9, Primer=B52,Start8,Stop10\n",
      "Start A52.0, Stop A52.3, Primer=A52,Start0,Stop4\n",
      "Start J18.0, Stop J18.2, Primer=J18,Start0,Stop3\n",
      "Start A84.8, Stop A84.9, Primer=A84,Start8,Stop10\n",
      "Start A52.7, Stop A52.9, Primer=A52,Start7,Stop10\n",
      "Start J18.8, Stop J18.9, Primer=J18,Start8,Stop10\n",
      "Start A85.0, Stop A85.2, Primer=A85,Start0,Stop3\n",
      "Start G04.8, Stop G04.9, Primer=G04,Start8,Stop10\n",
      "['A052', 'A053', 'A054', 'A030', 'A031', 'A032', 'A033', 'A060', 'A061', 'A062', 'A063', 'A064', 'A065', 'A066', 'A067', 'A068', 'A069', 'A011', 'A012', 'A013', 'A014', 'J100', 'J101', 'J102', 'J103', 'J104', 'J105', 'J106', 'J107', 'J108', 'J109', 'J110', 'J111', 'J112', 'J113', 'J114', 'J115', 'J116', 'J117', 'J118', 'J119', 'J120', 'J121', 'J122', 'J123', 'U071', 'U072', 'B010', 'B011', 'B012', 'A800', 'A801', 'A802', 'A803', 'A804', 'B050', 'B051', 'B052', 'B053', 'B054', 'A360', 'A361', 'A362', 'A363', 'B260', 'B261', 'B262', 'B263', 'A392', 'A393', 'A394', 'A395', 'A831', 'A832', 'A833', 'A834', 'A835', 'A878', 'A879', 'B508', 'B509', 'A750', 'A751', 'A752', 'A753', 'A500', 'A501', 'A502', 'A503', 'A504', 'A505', 'A506', 'A507', 'A540', 'A541', 'A542', 'A543', 'A544', 'A545', 'A546', 'A560', 'A561', 'A562', 'A563', 'A564', 'A600', 'A601', 'B160', 'B161', 'B162', 'A241', 'A242', 'A243', 'A244', 'A221', 'A222', 'A231', 'A232', 'A233', 'A058', 'A059', 'A038', 'A039', 'J128', 'J129', 'B018', 'B019', 'A368', 'A369', 'B268', 'B269', 'A398', 'A399', 'A838', 'A839', 'B518', 'B519', 'A510', 'A511', 'A512', 'A513', 'A514', 'A515', 'A548', 'A549', 'N341', 'N342', 'N343', 'A227', 'A228', 'A229', 'A238', 'A239', 'J170', 'J171', 'A840', 'A841', 'B528', 'B529', 'A520', 'A521', 'A522', 'A523', 'J180', 'J181', 'J182', 'A848', 'A849', 'A527', 'A528', 'A529', 'J188', 'J189', 'A850', 'A851', 'A852', 'G048', 'G049']\n"
     ]
    }
   ],
   "source": [
    "df_icd_loop=pd.DataFrame({'Start':['A05.2','A03.0'],'Stop':['A05.4','A03.3']})\n",
    "AllMembers=[]\n",
    "df_icd_loop=pd.read_excel(\"ICD_RANGE.xlsx\")\n",
    "for i in df_icd_loop.index:\n",
    "    StartVal=df_icd_loop.iloc[i]['Start']\n",
    "    StopVal=df_icd_loop.iloc[i]['Stop']\n",
    "    DotPosition=StartVal.find('.')\n",
    "    PrimerString=StartVal[0:DotPosition]\n",
    "    StartRange=int(StartVal[-1:])\n",
    "    StopRange=int(StopVal[-1:])+1\n",
    "    print(\"Start {}, Stop {}, Primer={},Start{},Stop{}\".format(StartVal,StopVal,PrimerString,StartRange,StopRange))\n",
    "    for j in range(StartRange,StopRange):\n",
    "        tmpStr=PrimerString + str(j)\n",
    "        AllMembers=AllMembers+ [tmpStr]\n",
    "print(AllMembers)"
   ]
  },
  {
   "cell_type": "code",
   "execution_count": null,
   "metadata": {},
   "outputs": [],
   "source": []
  },
  {
   "cell_type": "code",
   "execution_count": null,
   "metadata": {},
   "outputs": [],
   "source": [
    "UC_Op_Count=op_all.groupby(['pdx','hcode']).agg({'pid': 'count'}).rename(columns={'pid':'N'}).reset_index()\n",
    "\n",
    "OPD_df=UC_Op_Count.merge(icd_codes,left_on='pdx',right_on='CODE',how='left').merge(hosp_codes,left_on='hcode',right_on='CODE5')\n",
    "#UC_Op_Count[UC_Op_Count['pdx']=='I10']\n",
    "OPD_df[(OPD_df['pdx']=='I10') &(OPD_df['ADM2_TH']=='เมืองตราด')]\n",
    "      "
   ]
  },
  {
   "cell_type": "code",
   "execution_count": null,
   "metadata": {},
   "outputs": [],
   "source": [
    "OPD_AreaName='เมืองตราด'\n",
    "DiseaseDf=OPD_df[OPD_df['ADM2_TH']==OPD_AreaName].groupby(['CODE','Disease']).agg({'N': 'sum'}).reset_index().sort_values(['N'],ascending=False)\n",
    "#DiseaseDf=OPD_df[OPD_df['ADM2_TH']==OPD_AreaName].groupby(['CODE','Disease']).agg({'N': 'count'}).reset_index()#.sort_values(['N'],ascending=False)\n",
    "#DiseaseDf=OPD_df[OPD_df['ADM2_TH']==OPD_AreaName].groupby(['CODE','Disease']).agg({'N': 'count'}).reset_index()#.sort_values(['N'],ascending=False)\n",
    "#DiseaseDf=OPD_df[OPD_df['ADM2_TH']==OPD_AreaName]\n",
    "#DiseaseDf[DiseaseDf['CODE']=='I10'].agg({'N': 'sum'}).reset_index()\n",
    "CommunicableDiseasesList=['I10','E119']\n",
    "DiseaseDf[DiseaseDf['CODE'].isin(CommunicableDiseasesList)]"
   ]
  },
  {
   "cell_type": "code",
   "execution_count": null,
   "metadata": {},
   "outputs": [],
   "source": [
    "op_all=pd.read_pickle(DataDirectory +'op/op.pkl.zip', compression='zip')\n",
    "print(op_all.shape)\n",
    "UC_Op_Count=op_all.groupby(['pdx','hcode']).agg({'pid': 'count'}).rename(columns={'pid':'N'}).reset_index()\n",
    "print(UC_Op_Count.shape)\n",
    "OPD_df=UC_Op_Count.merge(icd_codes,left_on='pdx',right_on='CODE').merge(hosp_codes,left_on='hcode',right_on='CODE5')\n",
    "print(OPD_df.shape)"
   ]
  },
  {
   "cell_type": "code",
   "execution_count": null,
   "metadata": {},
   "outputs": [],
   "source": [
    "sum(op_all['pdx']=='I10')"
   ]
  },
  {
   "cell_type": "code",
   "execution_count": null,
   "metadata": {},
   "outputs": [],
   "source": [
    "sum(UC_Op_Count['pdx']=='I10')"
   ]
  },
  {
   "cell_type": "code",
   "execution_count": null,
   "metadata": {},
   "outputs": [],
   "source": [
    "OPD_df=UC_Op_Count.merge(icd_codes,left_on='pdx',right_on='CODE',how='left')"
   ]
  },
  {
   "cell_type": "code",
   "execution_count": null,
   "metadata": {},
   "outputs": [],
   "source": [
    "OPD_df['pdx'].value_counts()"
   ]
  },
  {
   "cell_type": "code",
   "execution_count": null,
   "metadata": {},
   "outputs": [],
   "source": [
    "FileLocation=DataDirectory+'op/csmbs_op_1.csv'\n",
    "fl_csmbs=pd.read_csv(FileLocation,sep=\"\\t\",low_memory=False).rename(str.lower, axis='columns').rename(columns={'tsid':'tran_id','cpid':'pid'})\n",
    "                        "
   ]
  },
  {
   "cell_type": "code",
   "execution_count": null,
   "metadata": {},
   "outputs": [],
   "source": [
    "UC_Op_Count=op_all.groupby(['pdx','hcode']).agg({'pid': 'count'}).rename(columns={'pid':'N'}).reset_index()\n",
    "print(UC_Op_Count.shape)\n",
    "print(UC_Op_Count)"
   ]
  },
  {
   "cell_type": "code",
   "execution_count": null,
   "metadata": {},
   "outputs": [],
   "source": [
    "type(fl_csmbs['pdx'][0])"
   ]
  },
  {
   "cell_type": "code",
   "execution_count": null,
   "metadata": {},
   "outputs": [],
   "source": [
    "op_pkl=pd.read_pickle(\"data.pkl.zip\", compression='zip')\n",
    "op_pkl"
   ]
  },
  {
   "cell_type": "code",
   "execution_count": null,
   "metadata": {},
   "outputs": [],
   "source": [
    "op_all['tran_id']=op_all.index\n",
    "op_all.loc[(op_all['sex'] != 1) & (op_all['sex'] != 2),'sex']=np.nan\n",
    "#op_all['proc8']=op_all['proc8'].to_string()\n",
    "op_all.to_(\"op.hdf\")"
   ]
  },
  {
   "cell_type": "code",
   "execution_count": null,
   "metadata": {},
   "outputs": [],
   "source": [
    "#op_all['proc8'][2000:2110]\n",
    "\n",
    "\n",
    "#op_all['proc8'].value_counts()\n",
    "#op_all['proc8'][168519:168525]"
   ]
  },
  {
   "cell_type": "code",
   "execution_count": null,
   "metadata": {},
   "outputs": [],
   "source": [
    "\n",
    "op_all['proc8'].value_counts()"
   ]
  },
  {
   "cell_type": "code",
   "execution_count": null,
   "metadata": {},
   "outputs": [],
   "source": [
    "op_all.loc[(op_all['sex'] != 1) & (op_all['sex'] != 2),'sex']=np.nan\n"
   ]
  },
  {
   "cell_type": "code",
   "execution_count": null,
   "metadata": {},
   "outputs": [],
   "source": [
    "op_all['sex'].value_counts()\n",
    "\n"
   ]
  },
  {
   "cell_type": "code",
   "execution_count": null,
   "metadata": {},
   "outputs": [],
   "source": []
  },
  {
   "cell_type": "code",
   "execution_count": null,
   "metadata": {},
   "outputs": [],
   "source": []
  },
  {
   "cell_type": "code",
   "execution_count": null,
   "metadata": {},
   "outputs": [],
   "source": [
    "t=['PDX', 'SDX1', 'SDX2', 'SDX3', 'SDX4', 'SDX5', 'SDX6', 'SDX7', 'SDX8',\n",
    "       'SDX9', 'SDX10', 'SDX11', 'SDX12', 'SDX13', 'SDX14', 'SDX15', 'SDX16',\n",
    "       'SDX17', 'SDX18', 'SDX19', 'PROC1', 'PROC2', 'PROC3', 'PROC4', 'PROC5',\n",
    "       'PROC6', 'PROC7', 'PROC8', 'PROC9', 'PROC10', 'PROC11', 'PROC12',\n",
    "       'PROC13', 'PROC14', 'PROC15', 'PROC16', 'PROC17', 'PROC18', 'PROC19']\n",
    "\n",
    "lt=list(map(str.lower,t))\n"
   ]
  },
  {
   "cell_type": "code",
   "execution_count": null,
   "metadata": {},
   "outputs": [],
   "source": [
    "fl_csmbs=pd.read_csv(FileLocation,sep=\"\\t\",low_memory=False).rename(str.lower, axis='columns').rename(columns={'tsid':'tran_id','cpid':'pid'})\n"
   ]
  },
  {
   "cell_type": "code",
   "execution_count": null,
   "metadata": {},
   "outputs": [],
   "source": [
    "fl_csmbs['dob_y'].value_counts()"
   ]
  },
  {
   "cell_type": "code",
   "execution_count": null,
   "metadata": {},
   "outputs": [],
   "source": [
    "\n",
    "fl_csmbs=pd.read_csv(FileLocation,sep=\"\\t\",low_memory=False).rename(str.lower, axis='columns').rename(columns={'tsid':'tran_id','cpid':'pid'})\n",
    "fl_csmbs['date_serv_d']=fl_csmbs['date_serv_d'].apply(str);fl_csmbs['date_serv_m']=fl_csmbs['date_serv_m'].apply(str);fl_csmbs['date_serv_y']=fl_csmbs['date_serv_y'].apply(str)\n",
    "fl_csmbs['date_serv'] = fl_csmbs['date_serv_d']+\"/\" + fl_csmbs['date_serv_m']+\"/\" + fl_csmbs['date_serv_y']\n",
    "fl_csmbs['dob_d']=fl_csmbs['dob_d'].apply(str);fl_csmbs['dob_m']=fl_csmbs['dob_m'].apply(str);fl_csmbs['dob_y']=fl_csmbs['dob_y'].apply(str)\n",
    "fl_csmbs['dob'] = fl_csmbs['dob_d']+\"/\" + fl_csmbs['dob_m']+\"/\" + fl_csmbs['dob_y']\n",
    "fl_csmbs[[\"age_year\", \"age_month\",'age_day']] = fl_csmbs.apply(AgeAtVisitDF, axis=1, result_type=\"expand\")\n",
    "fl_csmbs['scheme']='csmbs'"
   ]
  },
  {
   "cell_type": "code",
   "execution_count": null,
   "metadata": {},
   "outputs": [],
   "source": [
    "CDC_ICD_RANGE=['A052', 'A053', 'A054', 'A030', 'A031', 'A032', 'A033', 'A060', 'A061', 'A062', 'A063', 'A064', 'A065', 'A066', 'A067', 'A068', 'A069', 'A011', 'A012', 'A013', 'A014', 'J100', 'J101', 'J102', 'J103', 'J104', 'J105', 'J106', 'J107', 'J108', 'J109', 'J110', 'J111', 'J112', 'J113', 'J114', 'J115', 'J116', 'J117', 'J118', 'J119', 'J120', 'J121', 'J122', 'J123', 'U071', 'U072', 'B010', 'B011', 'B012', 'A800', 'A801', 'A802', 'A803', 'A804', 'B050', 'B051', 'B052', 'B053', 'B054', 'A360', 'A361', 'A362', 'A363', 'B260', 'B261', 'B262', 'B263', 'A392', 'A393', 'A394', 'A395', 'A831', 'A832', 'A833', 'A834', 'A835', 'A878', 'A879', 'B508', 'B509', 'A750', 'A751', 'A752', 'A753', 'A500', 'A501', 'A502', 'A503', 'A504', 'A505', 'A506', 'A507', 'A540', 'A541', 'A542', 'A543', 'A544', 'A545', 'A546', 'A560', 'A561', 'A562', 'A563', 'A564', 'A600', 'A601', 'B160', 'B161', 'B162', 'A241', 'A242', 'A243', 'A244', 'A221', 'A222', 'A231', 'A232', 'A233', 'A058', 'A059', 'A038', 'A039', 'J128', 'J129', 'B018', 'B019', 'A368', 'A369', 'B268', 'B269', 'A398', 'A399', 'A838', 'A839', 'B518', 'B519', 'A510', 'A511', 'A512', 'A513', 'A514', 'A515', 'A548', 'A549', 'N341', 'N342', 'N343', 'A227', 'A228', 'A229', 'A238', 'A239', 'J170', 'J171', 'A840', 'A841', 'B528', 'B529', 'A520', 'A521', 'A522', 'A523', 'J180', 'J181', 'J182', 'A848', 'A849', 'A527', 'A528', 'A529', 'J188', 'J189', 'A850', 'A851', 'A852', 'G048', 'G049']"
   ]
  },
  {
   "cell_type": "code",
   "execution_count": null,
   "metadata": {},
   "outputs": [],
   "source": [
    "fl_sss=fl_sss.rename(str.lower, axis='columns')\n",
    "fl_sss.rename(columns={'tsid':'tran_id','cpid':'pid',})\n",
    "#fl_sss['age_year']=fl_sss.apply(lambda x: relativedelta(pd.to_datetime(x.date_serv), pd.to_datetime(x.dob)).years, axis=1)\n",
    "#fl_sss['age_month']=fl_sss.apply(lambda x: relativedelta(pd.to_datetime(x.date_serv), pd.to_datetime(x.dob)).months, axis=1)\n",
    "#fl_sss['age_day']=fl_sss.apply(lambda x: relativedelta(pd.to_datetime(x.date_serv), pd.to_datetime(x.dob)).days, axis=1)\n",
    "fl_sss.columns\n"
   ]
  },
  {
   "cell_type": "code",
   "execution_count": null,
   "metadata": {},
   "outputs": [],
   "source": [
    "\"\"\"SelectedColumns=['Tsid','hcode','cpid','sex', 'dob', 'date_serv', 'Hmain','PDX', 'SDX1', 'SDX2', 'SDX3', 'SDX4', 'SDX5', 'SDX6', 'SDX7', 'SDX8',\n",
    "       'SDX9', 'SDX10', 'SDX11', 'SDX12', 'SDX13', 'SDX14', 'SDX15', 'SDX16',\n",
    "       'SDX17', 'SDX18', 'SDX19', 'PROC1', 'PROC2', 'PROC3', 'PROC4', 'PROC5',\n",
    "       'PROC6', 'PROC7', 'PROC8', 'PROC9', 'PROC10', 'PROC11', 'PROC12',\n",
    "       'PROC13', 'PROC14', 'PROC15', 'PROC16', 'PROC17', 'PROC18', 'PROC19',\n",
    "       'province']\n",
    "\"\"\"\n"
   ]
  },
  {
   "cell_type": "code",
   "execution_count": null,
   "metadata": {},
   "outputs": [],
   "source": [
    "\n",
    "def AgeAtVisitDF(DOB,ARRIVE):\n",
    "    result=relativedelta(pd.to_datetime(DOB), pd.to_datetime(ARRIVE))\n",
    "    resArray=[result.years,result.months,result.days]\n",
    "    return resArray\n",
    "def AgeAtVisitDF(df_tmp):\n",
    "    result=relativedelta(pd.to_datetime(df_tmp['date_serv']),pd.to_datetime(df_tmp['dob']))\n",
    "    return esult.years,result.months,result.days\n",
    "fl_sss=fl_sss.rename(str.lower, axis='columns')\n",
    "fl_sss.rename(columns={'tsid':'tran_id','cpid':'pid',})\n",
    "nt=fl_sss[0:1]\n"
   ]
  },
  {
   "cell_type": "code",
   "execution_count": null,
   "metadata": {},
   "outputs": [],
   "source": [
    "UC_Files=os.listdir(DataDirectory)\n",
    "UC_Files"
   ]
  },
  {
   "cell_type": "code",
   "execution_count": null,
   "metadata": {},
   "outputs": [],
   "source": [
    "nt.columns"
   ]
  },
  {
   "cell_type": "code",
   "execution_count": null,
   "metadata": {},
   "outputs": [],
   "source": [
    "nt.loc[:,[\"age_year\", \"age_month\",'age_day']] = 7,8,9\n",
    "nt"
   ]
  },
  {
   "cell_type": "code",
   "execution_count": null,
   "metadata": {},
   "outputs": [],
   "source": [
    "pd.options.mode.chained_assignment = None\n",
    "def AgeAtVisitDF(df_tmp):\n",
    "    result=relativedelta(pd.to_datetime(df_tmp['date_serv']), pd.to_datetime(df_tmp['dob']))\n",
    "    return result.years,result.months,result.days\n",
    "UC_Op['scheme']='uc'\n",
    "iFile='sss_op_1.csv'\n",
    "FileLocation=DataDirectory+Folder+\"/\"+iFile\n",
    "fl_sss=pd.read_csv(FileLocation,sep=\"\\t\",low_memory=False).rename(str.lower, axis='columns')\n",
    "fl_sss.rename(columns={'tsid':'tran_id','cpid':'pid'}, inplace=True)\n",
    "fl_sss[[\"age_year\", \"age_month\",'age_day']] = fl_sss.apply(AgeAtVisitDF, axis=1, result_type=\"expand\")\n",
    "SelectedColumns=['tran_id','scheme', 'hcode', 'pid', 'sex',\n",
    "       'pdx', 'sdx1', 'sdx2', 'sdx3', 'sdx4', 'sdx5', 'sdx6', 'sdx7', 'sdx8',\n",
    "       'sdx9', 'sdx10', 'sdx11', 'proc1', 'proc2', 'proc3', 'proc4', 'proc5',\n",
    "       'proc6', 'proc7', 'proc8', 'proc9', 'proc10', 'proc11', 'proc12',\n",
    "       'proc13', 'proc14', 'proc15', 'proc16', 'proc17', 'proc18', 'proc19', 'age_year', 'age_month', 'age_day', ]\n",
    "\n"
   ]
  },
  {
   "cell_type": "code",
   "execution_count": null,
   "metadata": {},
   "outputs": [],
   "source": [
    "t_all=pd.read_csv(FileLocation,sep=\"\\t\")"
   ]
  },
  {
   "cell_type": "code",
   "execution_count": null,
   "metadata": {},
   "outputs": [],
   "source": [
    "t_all=pd.read_csv(FileLocation,sep=\"\\t\")"
   ]
  },
  {
   "cell_type": "code",
   "execution_count": null,
   "metadata": {},
   "outputs": [],
   "source": [
    "t_sub=t_all[0:3]\n",
    "\n",
    "t_sub['date_serv_d']=t_sub['date_serv_d'].apply(str);t_sub['date_serv_m']=t_sub['date_serv_m'].apply(str);t_sub['date_serv_y']=t_sub['date_serv_y'].apply(str)\n",
    "t_sub['date_serv'] = t_sub['date_serv_d']+\"/\" + t_sub['date_serv_m']+\"/\" + t_sub['date_serv_y']\n",
    "\n",
    "t_sub['dob_d']=t_sub['dob_d'].apply(str);t_sub['dob_m']=t_sub['dob_m'].apply(str);t_sub['dob_y']=t_sub['dob_y'].apply(str)\n",
    "t_sub['dob'] = t_sub['dob_d']+\"/\" + t_sub['dob_m']+\"/\" + t_sub['dob_y']\n",
    "tmp=t_sub.apply(AgeAtVisitDF, axis=1, result_type=\"expand\")\n",
    "tmp"
   ]
  },
  {
   "cell_type": "code",
   "execution_count": null,
   "metadata": {},
   "outputs": [],
   "source": [
    "str(t_all['date_serv_d'])#+\"/\"+str(t_all['date_serv_m'])"
   ]
  },
  {
   "cell_type": "code",
   "execution_count": null,
   "metadata": {},
   "outputs": [],
   "source": [
    "def AgeAtVisitCSMBS(df_tmp):\n",
    "    result=relativedelta(pd.to_datetime((str(df_tmp['date_serv_d'])+\"/\"+df_tmp['date_serv_m']+\"/\"+df_tmp['date_serv_y'])), pd.to_datetime((df_tmp['dob_d']+\"/\"+df_tmp['dob_m']+\"/\"+df_tmp['dob_y'])))\n",
    "    return result.years,result.months,result.days\n",
    "t_sub=t_all[0:3]\n",
    "t_sub.apply(AgeAtVisitCSMBS, axis=1, result_type=\"expand\")\n"
   ]
  },
  {
   "cell_type": "code",
   "execution_count": null,
   "metadata": {},
   "outputs": [],
   "source": [
    "#fl_sss['dob']\n",
    "#04/10/1979\n",
    "t_all.columns"
   ]
  },
  {
   "cell_type": "code",
   "execution_count": null,
   "metadata": {},
   "outputs": [],
   "source": [
    "iFile='csmbs_op_1.csv'\n",
    "\n",
    "FileLocation=DataDirectory+Folder+\"/\"+iFile\n",
    "fl_csmbs=pd.read_csv(FileLocation,sep=\"\\t\",low_memory=False).rename(str.lower, axis='columns').rename(columns={'tsid':'tran_id','cpid':'pid'})\n",
    "fl_csmbs[[\"age_year\", \"age_month\",'age_day']] = fl_csmbs.apply(AgeAtVisitDF, axis=1, result_type=\"expand\")\n"
   ]
  },
  {
   "cell_type": "code",
   "execution_count": null,
   "metadata": {},
   "outputs": [],
   "source": []
  },
  {
   "cell_type": "code",
   "execution_count": null,
   "metadata": {},
   "outputs": [],
   "source": [
    "csmbs_op_selected=fl_sss[SelectedColumns]"
   ]
  },
  {
   "cell_type": "code",
   "execution_count": null,
   "metadata": {},
   "outputs": [],
   "source": [
    "SelectedColumns=['tran_id','scheme', 'hcode', 'pid', 'sex', 'hmain',\n",
    "       'pdx', 'sdx1', 'sdx2', 'sdx3', 'sdx4', 'sdx5', 'sdx6', 'sdx7', 'sdx8',\n",
    "       'sdx9', 'sdx10', 'sdx11', 'sdx12', 'sdx13', 'sdx14', 'sdx15', 'sdx16',\n",
    "       'sdx17', 'sdx18', 'sdx19', 'proc1', 'proc2', 'proc3', 'proc4', 'proc5',\n",
    "       'proc6', 'proc7', 'proc8', 'proc9', 'proc10', 'proc11', 'proc12',\n",
    "       'proc13', 'proc14', 'proc15', 'proc16', 'proc17', 'proc18', 'proc19', 'age_year', 'age_month', 'age_day', ]\n",
    "UC_Op['scheme']='uc'\n",
    "sss_op_selected=fl_sss[SelectedColumns]\n",
    "uc_op_selected=UC_Op[SelectedColumns]\n",
    "print(sss_op_selected.columns)\n",
    "print(uc_op_selected.columns)\n",
    "uc_all=pd.concat([uc_op_selected,sss_op_selected])\n",
    "print(\"UC shape={},SSS shape={},Overall shape={}\".format(uc_op_selected.shape,sss_op_selected.shape,uc_all.shape))\n"
   ]
  },
  {
   "cell_type": "code",
   "execution_count": null,
   "metadata": {},
   "outputs": [],
   "source": [
    "print(nt)"
   ]
  },
  {
   "cell_type": "code",
   "execution_count": null,
   "metadata": {},
   "outputs": [],
   "source": [
    "nt=fl_sss[0:2]\n",
    "nt.loc[:,[\"age_year\", \"age_month\",\"age_day\",\"scheme\"]] =[[1,2,3,4],[5,6,7,8]]\n",
    "print(nt)"
   ]
  },
  {
   "cell_type": "code",
   "execution_count": null,
   "metadata": {},
   "outputs": [],
   "source": [
    "nt=fl_sss[0:2]\n",
    "tmp=nt.apply(AgeAtVisitDF, axis=1, result_type=\"expand\")\n",
    "nt.loc[:,[\"age_year\", \"age_month\",\"age_day\",\"scheme\"]] = tmp\n",
    "nt.loc[:,[\"age_year\", \"age_month\",\"age_day\",\"scheme\"]]"
   ]
  },
  {
   "cell_type": "code",
   "execution_count": null,
   "metadata": {},
   "outputs": [],
   "source": [
    "\n",
    "nt.loc[:,[\"age_year\", \"age_month\",\"age_day\",\"scheme\"]]=tmp"
   ]
  },
  {
   "cell_type": "code",
   "execution_count": null,
   "metadata": {},
   "outputs": [],
   "source": [
    "nt.loc[[\"age_year\", \"age_month\",\"age_day\",\"scheme\"]]"
   ]
  },
  {
   "cell_type": "code",
   "execution_count": null,
   "metadata": {},
   "outputs": [],
   "source": [
    "def AgeAtVisitDF(df_tmp):\n",
    "    result=relativedelta(pd.to_datetime(df_tmp['date_serv']), pd.to_datetime(df_tmp['dob']))\n",
    "    return result.years,result.months,result.days,'sss'\n",
    "nt=fl_sss[0:5]\n",
    "#nt[\"age_year\"], nt[\"age_month\"], nt['age_day'] = zip(*nt.apply(AgeAtVisitDF, axis=1))\n",
    "nt.loc[:,[\"age_year\", \"age_month\",'age_day','scheme']] = nt.apply(AgeAtVisitDF, axis=1, result_type=\"expand\")\n",
    "print(nt)"
   ]
  },
  {
   "cell_type": "code",
   "execution_count": null,
   "metadata": {},
   "outputs": [],
   "source": [
    "def AgeAtVisitDF(df_tmp):\n",
    "    result=relativedelta(pd.to_datetime(df_tmp['date_serv']), pd.to_datetime(df_tmp['dob']))\n",
    "    return result.years,result.months,result.days,'sss'\n",
    "nt=fl_sss[0:5]\n",
    "#nt[\"age_year\"], nt[\"age_month\"], nt['age_day'] = zip(*nt.apply(AgeAtVisitDF, axis=1))\n",
    "nt[[\"age_year\", \"age_month\",'age_day','scheme']] = nt.apply(AgeAtVisitDF, axis=1, result_type=\"expand\")\n",
    "print(nt)\n"
   ]
  },
  {
   "cell_type": "code",
   "execution_count": null,
   "metadata": {},
   "outputs": [],
   "source": [
    "SelectedColumns=['tsid','scheme', 'hcode', 'cpid', 'sex', 'hmain',\n",
    "       'pdx', 'sdx1', 'sdx2', 'sdx3', 'sdx4', 'sdx5', 'sdx6', 'sdx7', 'sdx8',\n",
    "       'sdx9', 'sdx10', 'sdx11', 'sdx12', 'sdx13', 'sdx14', 'sdx15', 'sdx16',\n",
    "       'sdx17', 'sdx18', 'sdx19', 'proc1', 'proc2', 'proc3', 'proc4', 'proc5',\n",
    "       'proc6', 'proc7', 'proc8', 'proc9', 'proc10', 'proc11', 'proc12',\n",
    "       'proc13', 'proc14', 'proc15', 'proc16', 'proc17', 'proc18', 'proc19', 'age_year', 'age_month', 'age_day', ]\n",
    "sss_op=nt[SelectedColumns]\n",
    "print(sss_op.columns)"
   ]
  },
  {
   "cell_type": "code",
   "execution_count": null,
   "metadata": {},
   "outputs": [],
   "source": [
    "sss_op"
   ]
  },
  {
   "cell_type": "code",
   "execution_count": null,
   "metadata": {},
   "outputs": [],
   "source": [
    "def AgeAtVisitDF(df_tmp):\n",
    "    result=relativedelta(pd.to_datetime(df_tmp['date_serv']), pd.to_datetime(df_tmp['dob']))\n",
    "    return result.years,result.months,result.days\n",
    "nt=fl_sss[0:5]\n",
    "#nt[[\"a\", \"b\",'c']] = nt.apply(AgeAtVisitDF, axis=1, result_type=\"expand\")\n",
    "#nt\n",
    "nt[\"age_year\"], nt[\"age_month\"], nt['age_day'] = zip(*nt.apply(AgeAtVisitDF, axis=1))\n",
    "nt"
   ]
  },
  {
   "cell_type": "code",
   "execution_count": null,
   "metadata": {},
   "outputs": [],
   "source": [
    "import pandas as pd\n",
    "\n",
    "dat = [ [i, 10*i] for i in range(1000)]\n",
    "\n",
    "df = pd.DataFrame(dat, columns = [\"a\",\"b\"])\n",
    "\n",
    "def add_and_sub(row):\n",
    "    add = row[\"a\"] + row[\"b\"]\n",
    "    sub = row[\"a\"] - row[\"b\"]\n",
    "    return add, sub\n",
    "\n",
    "df[[\"add\", \"sub\"]] = df.apply(add_and_sub, axis=1, result_type=\"expand\")\n",
    "# versus\n",
    "df[\"add\"], df[\"sub\"] = zip(*df.apply(add_and_sub, axis=1))"
   ]
  },
  {
   "cell_type": "code",
   "execution_count": null,
   "metadata": {},
   "outputs": [],
   "source": [
    "nt=fl_sss[0:2]\n",
    "\n",
    "def S1(s):\n",
    "    return s+20\n",
    "zip(*nt['hcode'].apply(S1))"
   ]
  },
  {
   "cell_type": "markdown",
   "metadata": {},
   "source": [
    "#nt=AgeAtVisit(nt['date_serv'],nt['dob'])\n",
    "#print(nt)\n",
    "#nt[['a','b','c']]=nt.apply(lambda x: AgeAtVisit(x.date_serv,x.dob), axis=1)\n",
    "nt['a'],  nt['b'], nt['c'] = zip(*nt.apply(AgeAtVisitDF))\n"
   ]
  },
  {
   "cell_type": "code",
   "execution_count": null,
   "metadata": {},
   "outputs": [],
   "source": [
    "def sizes(s):    \n",
    "    return locale.format(\"%.1f\", s / 1024.0, grouping=True) + ' KB', \\\n",
    "        locale.format(\"%.1f\", s / 1024.0 ** 2, grouping=True) + ' MB', \\\n",
    "        locale.format(\"%.1f\", s / 1024.0 ** 3, grouping=True) + ' GB'\n",
    "df_test['size_kb'],  df_test['size_mb'], df_test['size_gb'] = zip(*df_test['size'].apply(sizes))"
   ]
  },
  {
   "cell_type": "code",
   "execution_count": null,
   "metadata": {},
   "outputs": [],
   "source": [
    "nt=new_tmp_fl[0:5]\n",
    "pd.to_datetime(nt['dob'])\n",
    "type(nt['dob'][0])\n",
    "nt['age_year']=nt.apply(lambda x: relativedelta(pd.to_datetime(x.date_serv), pd.to_datetime(x.dob)).years, axis=1)\n",
    "nt['age_month']=nt.apply(lambda x: relativedelta(pd.to_datetime(x.date_serv), pd.to_datetime(x.dob)).months, axis=1)\n",
    "nt['age_day']=nt.apply(lambda x: relativedelta(pd.to_datetime(x.date_serv), pd.to_datetime(x.dob)).days, axis=1)\n",
    "\n",
    "#nt[[\"dob\", \"date_serv\"]] = nt[[\"dob\", \"date_serv\"]].apply(pd.to_datetime)\n",
    "#nt['date_serv']=pd.to_datetime(nt['date_serv'])\n",
    "#dt_gap=dt_date_serv-dt_dob\n",
    "#difference = relativedelta(dt_date_serv[0], dt_dob[0])\n",
    "#dt_gap\n",
    "\n",
    "#nt['age_year'] = nt.apply(lambda x: relativedelta(x.dob, x.date_serv), axis=1)\n",
    "\n",
    "#nt['date_serv']-nt['dob']"
   ]
  },
  {
   "cell_type": "code",
   "execution_count": null,
   "metadata": {},
   "outputs": [],
   "source": [
    "from dateutil.relativedelta import relativedelta\n",
    "nt=new_tmp_fl[0:5]\n",
    "dt_dob=pd.to_datetime(nt['dob'])\n",
    "dt_date_serv=pd.to_datetime(nt['date_serv'])\n",
    "dt_gap=dt_date_serv-dt_dob\n",
    "difference = relativedelta(dt_date_serv[0], dt_dob[0])\n",
    "dt_gap\n",
    "\n",
    "nt['age_year'] = nt.apply(lambda x: relativedelta(x.dob, x.date_serv), axis=1)\n",
    "\n",
    "#nt['date_serv']-nt['dob']"
   ]
  },
  {
   "cell_type": "code",
   "execution_count": null,
   "metadata": {},
   "outputs": [],
   "source": [
    "print(new_tmp_fl.columns)\n",
    "print(UC_Op.columns)"
   ]
  },
  {
   "cell_type": "code",
   "execution_count": null,
   "metadata": {},
   "outputs": [],
   "source": [
    "PAGE_SIZE=10\n",
    "DataDirectory=\"assets/all_schemes\"\n",
    "UC_Op=pd.read_pickle(DataDirectory+\"/pkl/uc_op.pkl\")\n",
    "hosp_codes_full=pd.read_excel(\"assets/health_office_excel.xlsx\")\n",
    "hosp_codes=hosp_codes_full[['รหัส 5 หลัก','รหัสจังหวัด', 'จังหวัด', 'รหัสอำเภอ', 'อำเภอ/เขต', 'รหัสตำบล','ตำบล/แขวง']].rename(columns={'รหัส 5 หลัก':'CODE5','รหัสจังหวัด':'ADM1_PCODE','จังหวัด':'ADM1_TH','รหัสอำเภอ':'ADM2_PCODE','อำเภอ/เขต':'ADM2_TH','รหัสตำบล':'ADM3_PCODE','ตำบล/แขวง':'ADM3_TH'})\n",
    "icd_codes_full=pd.read_excel(\"assets/ICD_Detail.xlsx\")\n",
    "icd_codes=icd_codes_full[['CODE','SHORT DESCRIPTION (VALID ICD-10 FY2024)']].rename(columns={'SHORT DESCRIPTION (VALID ICD-10 FY2024)':'Disease'})\n",
    "\n",
    "\n",
    "UC_Op_Count=UC_Op.groupby(['pdx','hcode']).agg({'pid': 'count'}).rename(columns={'pid':'N'}).reset_index()\n",
    "df=UC_Op_Count.merge(icd_codes,left_on='pdx',right_on='CODE').merge(hosp_codes,left_on='hcode',right_on='CODE5')\n"
   ]
  },
  {
   "cell_type": "code",
   "execution_count": null,
   "metadata": {},
   "outputs": [],
   "source": [
    "df['ADM2_TH']=='บ่อไร่'\n",
    "page_current=0\n",
    "page_size=10\n",
    "DiseaseDf=df[df['ADM2_TH']==TambonText].groupby(['CODE','Disease']).agg({'N': 'count'}).reset_index().sort_values(['N'],ascending=False)\n",
    "DiseaseDf_Table=DiseaseDf.iloc[\n",
    "                        page_current*page_size:(page_current+ 1)*page_size\n",
    "                ].to_dict('records')"
   ]
  },
  {
   "cell_type": "code",
   "execution_count": null,
   "metadata": {},
   "outputs": [],
   "source": [
    "DiseaseDf.head(20)"
   ]
  },
  {
   "cell_type": "code",
   "execution_count": null,
   "metadata": {},
   "outputs": [],
   "source": [
    "#hosp_codes[hosp_codes['ADM1_TH']=='ตราด'][['ADM2_TH','ADM2_PCODE']].sort_values('ADM2_PCODE')['ADM2_TH'].iloc[0]\n",
    "InitialDistrict=hosp_codes[hosp_codes['ADM1_TH']=='ตราด'][['ADM2_TH','ADM2_PCODE']].sort_values('ADM2_PCODE')['ADM2_TH'].iloc[0]\n",
    "InitialSubdistrict=hosp_codes[hosp_codes['ADM1_TH']=='ตราด'][['ADM3_TH','ADM3_PCODE']].sort_values('ADM3_PCODE')['ADM3_TH'].iloc[0]\n",
    "AreaName=InitialSubdistrict\n",
    "AreaName"
   ]
  },
  {
   "cell_type": "code",
   "execution_count": null,
   "metadata": {},
   "outputs": [],
   "source": [
    "DiseaseDf=df[df['ADM3_TH']==AreaName].groupby(['CODE','Disease']).agg({'N': 'count'}).reset_index().sort_values(['N'],ascending=False)\n",
    "DiseaseDf_Table=DiseaseDf.iloc[\n",
    "        page_current*page_size:(page_current+ 1)*page_size\n",
    "].to_dict('records')"
   ]
  },
  {
   "cell_type": "code",
   "execution_count": null,
   "metadata": {},
   "outputs": [],
   "source": [
    "import plotly.express as px\n",
    "import geopandas as gpd\n",
    "\n",
    "df = px.data.election()\n",
    "geo_df = gpd.GeoDataFrame.from_features(\n",
    "    px.data.election_geojson()[\"features\"]\n",
    ").merge(df, on=\"district\").set_index(\"district\")\n",
    "\n",
    "fig = px.choropleth(geo_df,\n",
    "                   geojson=geo_df.geometry,\n",
    "                   locations=geo_df.index,\n",
    "                   color=\"Joly\",\n",
    "                   projection=\"mercator\")\n",
    "fig.update_geos(fitbounds=\"locations\", visible=False)\n",
    "fig.show()"
   ]
  },
  {
   "cell_type": "code",
   "execution_count": null,
   "metadata": {},
   "outputs": [],
   "source": [
    "from DB_Man import *"
   ]
  },
  {
   "cell_type": "code",
   "execution_count": null,
   "metadata": {},
   "outputs": [],
   "source": [
    "DiseaseDf=df_op[df_op['ADM1_TH']==AreaName].groupby(['CODE','Disease']).agg({'N': 'count'}).reset_index().sort_values(['N'],ascending=False)\n",
    "AreaDf=df_op.groupby(['ADM2_TH']).agg({'N': 'count'}).reset_index().sort_values(['N'],ascending=False).reset_index(drop=True)\n",
    "AreaDf_Table=AreaDf.to_dict('records')\n",
    "GPD_MAP = gpd.GeoDataFrame.from_file(\"Map/Trat/Tambol/Trat.shx\", encoding = 'utf-8')\n",
    "GPD_MAP['geo_index'] = GPD_MAP.index"
   ]
  },
  {
   "cell_type": "code",
   "execution_count": null,
   "metadata": {},
   "outputs": [],
   "source": [
    "GPD_MAP"
   ]
  },
  {
   "cell_type": "code",
   "execution_count": null,
   "metadata": {},
   "outputs": [],
   "source": [
    "adf=AreaDf.drop(index=0)\n",
    "#adf.loc[0]=['เมืองตราด',0]\n",
    "print(adf)\n",
    "OP_MapData=GPD_MAP.merge(adf, how='left', on=\"ADM2_TH\")\n",
    "OP_MapData['N']\n",
    "OP_MapData['N']=OP_MapData['N'].fillna(0)\n",
    "OP_MapData['N']"
   ]
  },
  {
   "cell_type": "code",
   "execution_count": null,
   "metadata": {},
   "outputs": [],
   "source": [
    "print(GPD_MAP[['ADM2_TH']])\n",
    "print(adf)\n",
    "OP_MapData=GPD_MAP.merge(adf, how='left', on=\"ADM2_TH\")\n",
    "print(OP_MapData)\n",
    "OP_MapData['N']=OP_MapData['N'].fillna(0)\n",
    "print(OP_MapData['N'])\n",
    "#OP_MapData[['ADM2_TH']]"
   ]
  },
  {
   "cell_type": "code",
   "execution_count": null,
   "metadata": {},
   "outputs": [],
   "source": [
    "print(OP_MapData.shape)"
   ]
  },
  {
   "cell_type": "code",
   "execution_count": null,
   "metadata": {},
   "outputs": [],
   "source": [
    "OP_MapData=GPD_MAP.merge(adf, how='left', on=\"ADM2_TH\")\n",
    "OP_MapData['N']=OP_MapData['N'].fillna(0)\n",
    "fig = px.choropleth(OP_MapData,\n",
    "                   geojson=OP_MapData['geometry'],\n",
    "                   locations=OP_MapData.index,\n",
    "                   color=\"N\",\n",
    "                   hover_data=['ADM2_TH'],\n",
    "                   projection=\"mercator\")\n",
    "fig.update_geos(fitbounds=\"locations\", visible=False)\n",
    "fig.show()"
   ]
  },
  {
   "cell_type": "code",
   "execution_count": null,
   "metadata": {},
   "outputs": [],
   "source": [
    "OP_MapData"
   ]
  },
  {
   "cell_type": "code",
   "execution_count": null,
   "metadata": {},
   "outputs": [],
   "source": [
    "print(GPD_MAP.shape)\n",
    "print(OP_MapData.shape)\n",
    "print(OP_MapData.head(3))\n",
    "print(AreaDf)\n",
    "print(OP_MapData.index)"
   ]
  },
  {
   "cell_type": "code",
   "execution_count": null,
   "metadata": {},
   "outputs": [],
   "source": [
    "#OP_MapData=AreaDf.merge(GPD_MAP,left_on='ADM2_TH',right_on='ADM2_TH')\n",
    "OpMap= px.choropleth(OP_MapData,\n",
    "        geojson=GPD_MAP.geometry,\n",
    "        #locations='geo_index',\n",
    "        locations=\"geo_index\", \n",
    "        #featureidkey=\"geo_index\",\n",
    "        color='N',\n",
    "        labels={'N':'Total out patient cases'},\n",
    "        projection=\"mercator\")                                                                                                    \n",
    "OpMap.update_geos(fitbounds=\"locations\", visible=False)\n",
    "OpMap.show()"
   ]
  },
  {
   "cell_type": "code",
   "execution_count": null,
   "metadata": {},
   "outputs": [],
   "source": [
    "GPD_MAP"
   ]
  },
  {
   "cell_type": "code",
   "execution_count": null,
   "metadata": {},
   "outputs": [],
   "source": [
    "#OP_MapData=AreaDf.merge(GPD_MAP,left_on='ADM2_TH',right_on='ADM2_TH')\n",
    "OpMap= px.choropleth(GPD_MAP,\n",
    "        geojson=GPD_MAP.geometry,\n",
    "        #locations='geo_index',\n",
    "        locations=GPD_MAP.index, \n",
    "        color='ADM2_TH',\n",
    "        labels={'N':'Total out patient cases'},\n",
    "        projection=\"mercator\")                                                                                                    \n",
    "OpMap.update_geos(fitbounds=\"locations\", visible=False)\n",
    "OpMap.show()"
   ]
  },
  {
   "cell_type": "code",
   "execution_count": null,
   "metadata": {},
   "outputs": [],
   "source": []
  },
  {
   "cell_type": "code",
   "execution_count": null,
   "metadata": {},
   "outputs": [],
   "source": []
  },
  {
   "cell_type": "code",
   "execution_count": null,
   "metadata": {},
   "outputs": [],
   "source": [
    "#DiseaseDf=df_op[df_op['ADM1_TH']==TambonText].groupby(['CODE','Disease']).agg({'N': 'count'}).reset_index().sort_values(['N'],ascending=False)\n",
    "AreaDf=df.groupby(['ADM2_TH']).agg({'N': 'count'}).reset_index().sort_values(['N'],ascending=False).reset_index(drop=True)\n",
    "AreaDf\n",
    "                "
   ]
  },
  {
   "cell_type": "code",
   "execution_count": null,
   "metadata": {},
   "outputs": [],
   "source": [
    "grpValue='ADM1_TH'\n",
    "grpTerm='ตราด'\n",
    "PreSelected_Area=df[df[grpValue]==grpTerm].groupby(['ADM2_TH']).agg({'N': 'count'}).reset_index().sort_values(['N'],ascending=False)\n",
    "PreSelected_Area"
   ]
  },
  {
   "cell_type": "code",
   "execution_count": null,
   "metadata": {},
   "outputs": [],
   "source": [
    "TambonText='บ่อไร่'\n",
    "DiseaseDf=df[df['ADM2_TH']==TambonText].groupby(['CODE','Disease']).agg({'N': 'count'}).reset_index().sort_values(['N'],ascending=False)\n",
    "DiseaseDf_Table=DiseaseDf.iloc[\n",
    "                        page_current*page_size:(page_current+ 1)*page_size\n",
    "].to_dict('records')\n",
    "DiseaseDf_Table           "
   ]
  },
  {
   "cell_type": "code",
   "execution_count": null,
   "metadata": {},
   "outputs": [],
   "source": [
    "PreSelectedAll=df.groupby(['ADM1_TH','ADM2_TH','ADM3_TH','CODE','Disease']).agg({'N': 'count'}).reset_index().sort_values(['ADM1_TH','N'],ascending=False)\n",
    "PreSelectedAll"
   ]
  },
  {
   "cell_type": "code",
   "execution_count": null,
   "metadata": {},
   "outputs": [],
   "source": [
    "if(False):\n",
    "    #Loading time: 9.3 -10.2 sec, including saving pickle 14.7 sec\n",
    "    #UC_Op=pd.read_csv((DataDirectory+'/1_uc_op2020_2022_P23.csv'),prefix='None')\n",
    "    UC_Op=pd.read_csv('assets/all_schemes/1_uc_op2020_2022_P23.csv')\n",
    "    UC_Ip=pd.read_csv(DataDirectory+\"/2_uc_ip2020_2022_P23.csv\")\n",
    "    SSS_Ip=pd.read_csv(DataDirectory+\"/3_sss_ip2020_2022_P23.csv\")\n",
    "    SSS_Op=pd.read_csv(DataDirectory+\"/5_sss_op2020_2022_P23.csv\")\n",
    "    OFC_Op=pd.read_csv(DataDirectory+\"/6_ofc_op2020_2022_P23.csv\")\n",
    "    OFC_Ip=pd.read_csv(DataDirectory+\"/4_ofc_ip2020_2022_P23.csv\")\n",
    "    UC_Op.to_pickle(DataDirectory+\"/pkl/uc_op.pkl\")\n",
    "    UC_Ip.to_pickle(DataDirectory+\"/pkl/uc_ip.pkl\")\n",
    "    SSS_Op.to_pickle(DataDirectory+\"/pkl/sss_op.pkl\")\n",
    "    SSS_Ip.to_pickle(DataDirectory+\"/pkl/sss_ip.pkl\")\n",
    "    OFC_Op.to_pickle(DataDirectory+\"/pkl/ofc_op.pkl\")\n",
    "    OFC_Ip.to_pickle(DataDirectory+\"/pkl/ofc_ip.pkl\")\n",
    "else:\n",
    "    #Loading 4.1 sec + 3 sec\n",
    "    UC_Op=pd.read_pickle(DataDirectory+\"/pkl/uc_op.pkl\")\n",
    "    UC_Op=UC_Op.rename(columns={'pid':'N'})\n",
    "    UC_Ip=pd.read_pickle(DataDirectory+\"/pkl/uc_ip.pkl\")\n",
    "    SSS_Op=pd.read_pickle(DataDirectory+\"/pkl/sss_op.pkl\")\n",
    "    SSS_Ip=pd.read_pickle(DataDirectory+\"/pkl/sss_ip.pkl\")\n",
    "    OFC_Op=pd.read_pickle(DataDirectory+\"/pkl/ofc_op.pkl\")\n",
    "    OFC_Ip=pd.read_pickle(DataDirectory+\"/pkl/ofc_ip.pkl\")\n",
    "    #UC_Op=UC_Op.rename({'pid':'N'},inplace=True)\n",
    "hosp_codes_full=pd.read_excel(\"assets/health_office_excel.xlsx\")\n",
    "hosp_codes=hosp_codes_full[['รหัส 5 หลัก','รหัสจังหวัด', 'จังหวัด', 'รหัสอำเภอ', 'อำเภอ/เขต', 'รหัสตำบล','ตำบล/แขวง']].rename(columns={\n",
    "    'รหัส 5 หลัก':'CODE5',\n",
    "    'รหัสจังหวัด':'ADM1_PCODE',\n",
    "    'จังหวัด':'ADM1_TH',\n",
    "    'รหัสอำเภอ':'ADM2_PCODE',\n",
    "    'อำเภอ/เขต':'ADM2_TH',\n",
    "    'รหัสตำบล':'ADM3_PCODE',\n",
    "    'ตำบล/แขวง':'ADM3_TH'})\n",
    "icd_codes_full=pd.read_excel(\"assets/ICD_Detail.xlsx\")\n",
    "icd_codes=icd_codes_full[['CODE','SHORT DESCRIPTION (VALID ICD-10 FY2024)']].rename(columns={'SHORT DESCRIPTION (VALID ICD-10 FY2024)':'Disease'})\n",
    "trat = gpd.GeoDataFrame.from_file(\"Map/Trat/Tambol/Trat.shx\", encoding = 'utf-8')\n"
   ]
  },
  {
   "cell_type": "code",
   "execution_count": null,
   "metadata": {},
   "outputs": [],
   "source": [
    "#Show all columns names\n",
    "display(UC_Op.columns)\n",
    "display(hosp_codes.columns)\n",
    "display(icd_codes.columns)\n",
    "display(trat.columns)"
   ]
  },
  {
   "cell_type": "code",
   "execution_count": null,
   "metadata": {},
   "outputs": [],
   "source": [
    "UC_Op\n",
    "t=UC_Op.groupby(['pdx','hcode']).agg({'pid': 'count'}).rename(columns={'pid':'N'}).reset_index()\n",
    "t"
   ]
  },
  {
   "cell_type": "code",
   "execution_count": null,
   "metadata": {},
   "outputs": [],
   "source": [
    "UC_Op=pd.read_pickle(DataDirectory+\"/pkl/uc_op.pkl\")\n",
    "UC_Op_Count=UC_Op.groupby(['pdx','hcode']).agg({'pid': 'count'}).rename(columns={'pid':'N'}).reset_index()\n",
    "df=UC_Op_Count.merge(icd_codes,left_on='pdx',right_on='CODE').merge(hosp_codes,left_on='hcode',right_on='CODE5')\n",
    "#Selected=UC_Op_Count.merge(icd_codes,left_on='pdx',right_on='CODE').merge(hosp_codes,left_on='hcode',right_on='CODE5').merge(trat,left_on='ADM3_TH',right_on='ADM3_TH')\n",
    "\n",
    "#UC_Op_Count.merge(icd_codes,left_on='pdx',right_on='CODE').merge(hosp_codes,left_on='hcode',right_on='รหัส 5 หลัก')\n"
   ]
  },
  {
   "cell_type": "code",
   "execution_count": null,
   "metadata": {},
   "outputs": [],
   "source": [
    "df"
   ]
  },
  {
   "cell_type": "code",
   "execution_count": null,
   "metadata": {},
   "outputs": [],
   "source": [
    "PreSelectedAmphor=df.merge(icd_codes,left_on='CODE',right_on='CODE')\n",
    "#.groupby(['ADM2_TH','CODE']).agg({'N': 'count'}).reset_index().sort_values(['ADM2_TH','N'],ascending=False)\n",
    "PreSelectedAmphor"
   ]
  },
  {
   "cell_type": "code",
   "execution_count": null,
   "metadata": {},
   "outputs": [],
   "source": [
    "PreSelectedAmphor=df.groupby(['ADM2_TH','CODE','Disease']).agg({'N': 'count'}).reset_index().sort_values(['ADM2_TH','N'],ascending=False)\n",
    "PreSelectedAmphor"
   ]
  },
  {
   "cell_type": "code",
   "execution_count": null,
   "metadata": {},
   "outputs": [],
   "source": [
    "PreSelectedTambol=df.groupby(['ADM2_TH','ADM3_TH','CODE','Disease']).agg({'N': 'count'}).reset_index().sort_values(['ADM3_TH','N'],ascending=False)\n",
    "PreSelectedTambol[PreSelectedTambol['ADM2_TH']=='แหลมงอบ']"
   ]
  },
  {
   "cell_type": "code",
   "execution_count": null,
   "metadata": {},
   "outputs": [],
   "source": [
    "\n",
    "SelectedAmphor=df.groupby(['ADM2_TH','CODE',]).agg({'N': 'count'}).merge(icd_codes,left_on='CODE',right_on='CODE').sort_values(['N'],ascending=False).reset_index()\n",
    "SelectedAmphor"
   ]
  },
  {
   "cell_type": "code",
   "execution_count": null,
   "metadata": {},
   "outputs": [],
   "source": [
    "PreSelected=df.groupby(['CODE','ADM1_TH','ADM2_TH','ADM3_TH']).agg({'N': 'count'}).merge(icd_codes,left_on='CODE',right_on='CODE').sort_values(['N'],ascending=False).reset_index()\n",
    "PreSelected"
   ]
  },
  {
   "cell_type": "code",
   "execution_count": null,
   "metadata": {},
   "outputs": [],
   "source": [
    "\n",
    "PreSelected=df.groupby(['CODE','ADM1_TH','ADM2_TH','ADM3_TH']).agg({'N': 'count'}).merge(icd_codes,left_on='CODE',right_on='CODE').sort_values(['N'],ascending=False).reset_index()\n",
    "Selected=PreSelected[['Disease','N']]\n",
    "Selected"
   ]
  },
  {
   "cell_type": "code",
   "execution_count": null,
   "metadata": {},
   "outputs": [],
   "source": [
    "df.groupby(['CODE']).agg({'N': 'count'}).merge(icd_codes,left_on='CODE',right_on='CODE').reset_index().sort_values(['N'],ascending=False)"
   ]
  },
  {
   "cell_type": "code",
   "execution_count": null,
   "metadata": {},
   "outputs": [],
   "source": [
    "Selected[Selected['ADM3_TH']=='วังกระแจะ']"
   ]
  },
  {
   "cell_type": "code",
   "execution_count": null,
   "metadata": {},
   "outputs": [],
   "source": [
    "Selected[Selected['ADM2_TH_y']=='เมืองตราด']"
   ]
  },
  {
   "cell_type": "code",
   "execution_count": null,
   "metadata": {},
   "outputs": [],
   "source": [
    "trat = gpd.GeoDataFrame.from_file(\"Map/Trat/Tambol/Trat.shx\", encoding = 'utf-8')\n",
    "#trat\n",
    "#hosp_codes['ADM3_TH']\n",
    "t1=hosp_codes.merge(trat,left_on='ADM3_TH',right_on='ADM3_TH')\n",
    "t1\n"
   ]
  },
  {
   "cell_type": "code",
   "execution_count": null,
   "metadata": {},
   "outputs": [],
   "source": [
    "trat = gpd.GeoDataFrame.from_file(\"Map/Trat/Tambol/Trat.shx\", encoding = 'utf-8')\n",
    "trat['ADM3_PCODE']=trat['ADM3_PCODE'].str.replace('TH', ')\n",
    "trat['ADM3_PCODE']=trat['ADM3_PCODE'].astype('float')\n",
    "t1=trat.merge(hosp_codes,left_on='ADM3_PCODE',right_on='ADM3_PCODE')\n",
    "t1"
   ]
  },
  {
   "cell_type": "code",
   "execution_count": null,
   "metadata": {},
   "outputs": [],
   "source": []
  },
  {
   "cell_type": "code",
   "execution_count": null,
   "metadata": {},
   "outputs": [],
   "source": [
    "#hosp_codes['ADM3_PCODE'].str\n",
    "hosp_codes['ADM3_PCODE']=hosp_codes['ADM3_PCODE'].apply(int).apply(str)"
   ]
  },
  {
   "cell_type": "code",
   "execution_count": null,
   "metadata": {},
   "outputs": [],
   "source": []
  },
  {
   "cell_type": "code",
   "execution_count": null,
   "metadata": {},
   "outputs": [],
   "source": []
  },
  {
   "cell_type": "code",
   "execution_count": null,
   "metadata": {},
   "outputs": [],
   "source": [
    "hosp_codes['ADM3_PCODE']=hosp_codes['ADM3_PCODE'].astype('int')"
   ]
  },
  {
   "cell_type": "code",
   "execution_count": null,
   "metadata": {},
   "outputs": [],
   "source": [
    "hosp_codes['ADM3_PCODE']=hosp_codes['ADM3_PCODE'].astype('int')\n",
    "hosp_codes['ADM3_PCODE']"
   ]
  },
  {
   "cell_type": "code",
   "execution_count": null,
   "metadata": {},
   "outputs": [],
   "source": [
    "display(trat['ADM3_PCODE'])\n",
    "hosp_codes['ADM3_PCODE']\n",
    "hosp_codes['ADM3_PCODE'].str.cat(sep='TH')"
   ]
  },
  {
   "cell_type": "code",
   "execution_count": null,
   "metadata": {},
   "outputs": [],
   "source": [
    "\n",
    "trat.merge(hosp_codes,left_on='ADM3_PCODE',right_on='ADM3_PCODE')"
   ]
  },
  {
   "cell_type": "code",
   "execution_count": null,
   "metadata": {},
   "outputs": [],
   "source": []
  },
  {
   "cell_type": "code",
   "execution_count": null,
   "metadata": {},
   "outputs": [],
   "source": []
  },
  {
   "cell_type": "code",
   "execution_count": null,
   "metadata": {},
   "outputs": [],
   "source": [
    "hosp_codes"
   ]
  },
  {
   "cell_type": "code",
   "execution_count": null,
   "metadata": {},
   "outputs": [],
   "source": [
    "DiseaseDf=df[df['ADM3_TH']==AreaName].groupby(['CODE','Disease']).agg({'N': 'count'}).reset_index().sort_values(['N'],ascending=False)\n",
    "DiseaseDf_Table=DiseaseDf.iloc[\n",
    "        page_current*page_size:(page_current+ 1)*page_size\n",
    "].to_dict('records')"
   ]
  },
  {
   "cell_type": "code",
   "execution_count": null,
   "metadata": {},
   "outputs": [],
   "source": []
  },
  {
   "cell_type": "code",
   "execution_count": null,
   "metadata": {},
   "outputs": [],
   "source": [
    "hosp_codes"
   ]
  },
  {
   "cell_type": "code",
   "execution_count": null,
   "metadata": {},
   "outputs": [],
   "source": [
    "#Show all columns names\n",
    "display(UC_Op.columns)\n",
    "display(hosp_codes.columns)\n",
    "display(icd_codes.columns)"
   ]
  },
  {
   "cell_type": "code",
   "execution_count": null,
   "metadata": {},
   "outputs": [],
   "source": [
    "UC_Op_Count=UC_Op.groupby(['pdx','hcode'], sort=True).agg({'pid': 'count'}).reset_index()\n",
    "UC_Op_Count.merge(icd_codes,left_on='pdx',right_on='CODE').merge(hosp_codes,left_on='hcode',right_on='รหัส 5 หลัก')\n",
    "\n"
   ]
  },
  {
   "cell_type": "code",
   "execution_count": null,
   "metadata": {},
   "outputs": [],
   "source": [
    "UC_Op_Count=UC_Op.groupby(['pdx','hcode'], sort=True).agg({'pid': 'count'}).reset_index()\n",
    "UC_Op_Count.merge(icd_codes,left_on='pdx',right_on='CODE').merge(hosp_codes,left_on='hcode',right_on='รหัส 5 หลัก')\n"
   ]
  },
  {
   "cell_type": "code",
   "execution_count": null,
   "metadata": {},
   "outputs": [],
   "source": [
    "\n"
   ]
  },
  {
   "cell_type": "code",
   "execution_count": null,
   "metadata": {},
   "outputs": [],
   "source": []
  },
  {
   "cell_type": "code",
   "execution_count": null,
   "metadata": {},
   "outputs": [],
   "source": [
    "trat.columns"
   ]
  },
  {
   "cell_type": "code",
   "execution_count": null,
   "metadata": {},
   "outputs": [],
   "source": [
    "UC_Op_Count1=UC_Op_Count.reset_index()"
   ]
  },
  {
   "cell_type": "code",
   "execution_count": null,
   "metadata": {},
   "outputs": [],
   "source": [
    "UC_Op_Count1.merge(icd_codes,left_on='pdx',right_on='CODE').merge(hosp_codes,left_on='hcode',right_on='รหัส 5 หลัก')"
   ]
  },
  {
   "cell_type": "code",
   "execution_count": null,
   "metadata": {},
   "outputs": [],
   "source": [
    "UC_Op_Count.merge(icd_codes,left_on='pdx',right_on='CODE').merge(hosp_codes,left_on='hcode',right_on='รหัส 5 หลัก')"
   ]
  },
  {
   "cell_type": "code",
   "execution_count": null,
   "metadata": {},
   "outputs": [],
   "source": []
  },
  {
   "cell_type": "code",
   "execution_count": null,
   "metadata": {},
   "outputs": [],
   "source": []
  },
  {
   "cell_type": "code",
   "execution_count": null,
   "metadata": {},
   "outputs": [],
   "source": []
  },
  {
   "cell_type": "code",
   "execution_count": null,
   "metadata": {},
   "outputs": [],
   "source": [
    "#Search by location of hospital\n",
    "UC_Op_Count.loc[(slice(None), 2137), :].merge(icd_codes,left_on='pdx',right_on='CODE')"
   ]
  },
  {
   "cell_type": "code",
   "execution_count": null,
   "metadata": {},
   "outputs": [],
   "source": [
    "#Search by Diagnosis\n",
    "UC_Op_Count.loc[('I10', slice(None)), :].merge(icd_codes,left_on='pdx',right_on='CODE')"
   ]
  },
  {
   "cell_type": "code",
   "execution_count": null,
   "metadata": {},
   "outputs": [],
   "source": [
    "icd_codes=pd.read_excel(\"assets/ICD_Detail.xlsx\")\n",
    "icd_codes"
   ]
  },
  {
   "cell_type": "code",
   "execution_count": null,
   "metadata": {},
   "outputs": [],
   "source": [
    "subset_ho=hosp_code[:][['รหัส 5 หลัก','รหัสอำเภอ','อำเภอ/เขต','รหัสตำบล','ตำบล/แขวง','เขตบริการ']]"
   ]
  },
  {
   "cell_type": "code",
   "execution_count": null,
   "metadata": {},
   "outputs": [],
   "source": [
    "t_hcode=UC_Op[0:100][['pid', 'sex', 'age_year', 'age_month','age_day','hcode','pdx', 'sdx1', 'sdx2', 'sdx3', 'sdx4', 'sdx5', 'sdx6', 'sdx7', 'sdx8',\n",
    "       'sdx9', 'sdx10', 'sdx11', 'sdx12', 'sdx13', 'sdx14', 'sdx15', 'sdx16',\n",
    "       'sdx17', 'sdx18', 'sdx19', 'sdx20', 'sdx21', 'sdx22', 'sdx23', 'sdx24',\n",
    "       'sdx25', 'sdx26', 'sdx27', 'sdx28', 'sdx29', 'sdx30']]"
   ]
  },
  {
   "cell_type": "code",
   "execution_count": null,
   "metadata": {},
   "outputs": [],
   "source": [
    "merged_hcode=t_hcode.merge(subset_ho,left_on='hcode',right_on='รหัส 5 หลัก')\n",
    "merged_hcode_icd=merged_hcode.merge(icd_codes,left_on='pdx',right_on='CODE')#SHORT DESCRIPTION (VALID ICD-10 FY2024)"
   ]
  },
  {
   "cell_type": "code",
   "execution_count": null,
   "metadata": {},
   "outputs": [],
   "source": [
    "tmp=merged_hcode_icd.groupby(['pdx','hcode'], sort=True).agg({'pid': 'count'})\n"
   ]
  },
  {
   "cell_type": "code",
   "execution_count": null,
   "metadata": {},
   "outputs": [],
   "source": [
    "tmp"
   ]
  },
  {
   "cell_type": "code",
   "execution_count": null,
   "metadata": {},
   "outputs": [],
   "source": [
    "#2137, 10696\n",
    "tmp.loc[(slice(None), 2137), :].merge(icd_codes,left_on='pdx',right_on='CODE')\n"
   ]
  },
  {
   "cell_type": "code",
   "execution_count": null,
   "metadata": {},
   "outputs": [],
   "source": [
    "tmp.query('CODE == 10696')\n",
    "#df[[\"foo\",\"qux\"]]"
   ]
  },
  {
   "cell_type": "code",
   "execution_count": null,
   "metadata": {},
   "outputs": [],
   "source": [
    "tmp.index[:10]"
   ]
  },
  {
   "cell_type": "code",
   "execution_count": null,
   "metadata": {},
   "outputs": [],
   "source": [
    "t2=tmp.merge(icd_codes,left_on='pdx',right_on='CODE')\n",
    "t2"
   ]
  },
  {
   "cell_type": "code",
   "execution_count": null,
   "metadata": {},
   "outputs": [],
   "source": []
  }
 ],
 "metadata": {
  "kernelspec": {
   "display_name": "spyder",
   "language": "python",
   "name": "python3"
  },
  "language_info": {
   "codemirror_mode": {
    "name": "ipython",
    "version": 3
   },
   "file_extension": ".py",
   "mimetype": "text/x-python",
   "name": "python",
   "nbconvert_exporter": "python",
   "pygments_lexer": "ipython3",
   "version": "3.11.0"
  }
 },
 "nbformat": 4,
 "nbformat_minor": 2
}
